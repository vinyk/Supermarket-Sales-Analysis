{
 "cells": [
  {
   "cell_type": "code",
   "execution_count": 1,
   "metadata": {},
   "outputs": [],
   "source": [
    "import numpy as np\n",
    "import pandas as pd \n",
    "import matplotlib.pyplot as plt\n",
    "import seaborn as sns\n",
    "%matplotlib inline"
   ]
  },
  {
   "cell_type": "code",
   "execution_count": 6,
   "metadata": {},
   "outputs": [
    {
     "data": {
      "text/html": [
       "<div>\n",
       "<style scoped>\n",
       "    .dataframe tbody tr th:only-of-type {\n",
       "        vertical-align: middle;\n",
       "    }\n",
       "\n",
       "    .dataframe tbody tr th {\n",
       "        vertical-align: top;\n",
       "    }\n",
       "\n",
       "    .dataframe thead th {\n",
       "        text-align: right;\n",
       "    }\n",
       "</style>\n",
       "<table border=\"1\" class=\"dataframe\">\n",
       "  <thead>\n",
       "    <tr style=\"text-align: right;\">\n",
       "      <th></th>\n",
       "      <th>Invoice ID</th>\n",
       "      <th>Branch</th>\n",
       "      <th>City</th>\n",
       "      <th>Customer type</th>\n",
       "      <th>Gender</th>\n",
       "      <th>Product line</th>\n",
       "      <th>Unit price</th>\n",
       "      <th>Quantity</th>\n",
       "      <th>Tax 5%</th>\n",
       "      <th>Total</th>\n",
       "      <th>Date</th>\n",
       "      <th>Time</th>\n",
       "      <th>Payment</th>\n",
       "      <th>cogs</th>\n",
       "      <th>gross margin percentage</th>\n",
       "      <th>gross income</th>\n",
       "      <th>Rating</th>\n",
       "    </tr>\n",
       "  </thead>\n",
       "  <tbody>\n",
       "    <tr>\n",
       "      <th>0</th>\n",
       "      <td>750-67-8428</td>\n",
       "      <td>A</td>\n",
       "      <td>Yangon</td>\n",
       "      <td>Member</td>\n",
       "      <td>Female</td>\n",
       "      <td>Health and beauty</td>\n",
       "      <td>74.69</td>\n",
       "      <td>7</td>\n",
       "      <td>26.1415</td>\n",
       "      <td>548.9715</td>\n",
       "      <td>1/5/2019</td>\n",
       "      <td>13:08</td>\n",
       "      <td>Ewallet</td>\n",
       "      <td>522.83</td>\n",
       "      <td>4.761905</td>\n",
       "      <td>26.1415</td>\n",
       "      <td>9.1</td>\n",
       "    </tr>\n",
       "    <tr>\n",
       "      <th>1</th>\n",
       "      <td>226-31-3081</td>\n",
       "      <td>C</td>\n",
       "      <td>Naypyitaw</td>\n",
       "      <td>Normal</td>\n",
       "      <td>Female</td>\n",
       "      <td>Electronic accessories</td>\n",
       "      <td>15.28</td>\n",
       "      <td>5</td>\n",
       "      <td>3.8200</td>\n",
       "      <td>80.2200</td>\n",
       "      <td>3/8/2019</td>\n",
       "      <td>10:29</td>\n",
       "      <td>Cash</td>\n",
       "      <td>76.40</td>\n",
       "      <td>4.761905</td>\n",
       "      <td>3.8200</td>\n",
       "      <td>9.6</td>\n",
       "    </tr>\n",
       "    <tr>\n",
       "      <th>2</th>\n",
       "      <td>631-41-3108</td>\n",
       "      <td>A</td>\n",
       "      <td>Yangon</td>\n",
       "      <td>Normal</td>\n",
       "      <td>Male</td>\n",
       "      <td>Home and lifestyle</td>\n",
       "      <td>46.33</td>\n",
       "      <td>7</td>\n",
       "      <td>16.2155</td>\n",
       "      <td>340.5255</td>\n",
       "      <td>3/3/2019</td>\n",
       "      <td>13:23</td>\n",
       "      <td>Credit card</td>\n",
       "      <td>324.31</td>\n",
       "      <td>4.761905</td>\n",
       "      <td>16.2155</td>\n",
       "      <td>7.4</td>\n",
       "    </tr>\n",
       "    <tr>\n",
       "      <th>3</th>\n",
       "      <td>123-19-1176</td>\n",
       "      <td>A</td>\n",
       "      <td>Yangon</td>\n",
       "      <td>Member</td>\n",
       "      <td>Male</td>\n",
       "      <td>Health and beauty</td>\n",
       "      <td>58.22</td>\n",
       "      <td>8</td>\n",
       "      <td>23.2880</td>\n",
       "      <td>489.0480</td>\n",
       "      <td>1/27/2019</td>\n",
       "      <td>20:33</td>\n",
       "      <td>Ewallet</td>\n",
       "      <td>465.76</td>\n",
       "      <td>4.761905</td>\n",
       "      <td>23.2880</td>\n",
       "      <td>8.4</td>\n",
       "    </tr>\n",
       "    <tr>\n",
       "      <th>4</th>\n",
       "      <td>373-73-7910</td>\n",
       "      <td>A</td>\n",
       "      <td>Yangon</td>\n",
       "      <td>Normal</td>\n",
       "      <td>Male</td>\n",
       "      <td>Sports and travel</td>\n",
       "      <td>86.31</td>\n",
       "      <td>7</td>\n",
       "      <td>30.2085</td>\n",
       "      <td>634.3785</td>\n",
       "      <td>2/8/2019</td>\n",
       "      <td>10:37</td>\n",
       "      <td>Ewallet</td>\n",
       "      <td>604.17</td>\n",
       "      <td>4.761905</td>\n",
       "      <td>30.2085</td>\n",
       "      <td>5.3</td>\n",
       "    </tr>\n",
       "  </tbody>\n",
       "</table>\n",
       "</div>"
      ],
      "text/plain": [
       "    Invoice ID Branch       City Customer type  Gender  \\\n",
       "0  750-67-8428      A     Yangon        Member  Female   \n",
       "1  226-31-3081      C  Naypyitaw        Normal  Female   \n",
       "2  631-41-3108      A     Yangon        Normal    Male   \n",
       "3  123-19-1176      A     Yangon        Member    Male   \n",
       "4  373-73-7910      A     Yangon        Normal    Male   \n",
       "\n",
       "             Product line  Unit price  Quantity   Tax 5%     Total       Date  \\\n",
       "0       Health and beauty       74.69         7  26.1415  548.9715   1/5/2019   \n",
       "1  Electronic accessories       15.28         5   3.8200   80.2200   3/8/2019   \n",
       "2      Home and lifestyle       46.33         7  16.2155  340.5255   3/3/2019   \n",
       "3       Health and beauty       58.22         8  23.2880  489.0480  1/27/2019   \n",
       "4       Sports and travel       86.31         7  30.2085  634.3785   2/8/2019   \n",
       "\n",
       "    Time      Payment    cogs  gross margin percentage  gross income  Rating  \n",
       "0  13:08      Ewallet  522.83                 4.761905       26.1415     9.1  \n",
       "1  10:29         Cash   76.40                 4.761905        3.8200     9.6  \n",
       "2  13:23  Credit card  324.31                 4.761905       16.2155     7.4  \n",
       "3  20:33      Ewallet  465.76                 4.761905       23.2880     8.4  \n",
       "4  10:37      Ewallet  604.17                 4.761905       30.2085     5.3  "
      ]
     },
     "execution_count": 6,
     "metadata": {},
     "output_type": "execute_result"
    }
   ],
   "source": [
    "df = pd.read_csv('supermarkets2.csv')\n",
    "df.head()"
   ]
  },
  {
   "cell_type": "code",
   "execution_count": 7,
   "metadata": {},
   "outputs": [
    {
     "data": {
      "text/plain": [
       "(1000, 17)"
      ]
     },
     "execution_count": 7,
     "metadata": {},
     "output_type": "execute_result"
    }
   ],
   "source": [
    "df.shape"
   ]
  },
  {
   "cell_type": "code",
   "execution_count": 8,
   "metadata": {},
   "outputs": [
    {
     "name": "stdout",
     "output_type": "stream",
     "text": [
      "<class 'pandas.core.frame.DataFrame'>\n",
      "RangeIndex: 1000 entries, 0 to 999\n",
      "Data columns (total 17 columns):\n",
      " #   Column                   Non-Null Count  Dtype  \n",
      "---  ------                   --------------  -----  \n",
      " 0   Invoice ID               1000 non-null   object \n",
      " 1   Branch                   1000 non-null   object \n",
      " 2   City                     1000 non-null   object \n",
      " 3   Customer type            1000 non-null   object \n",
      " 4   Gender                   1000 non-null   object \n",
      " 5   Product line             1000 non-null   object \n",
      " 6   Unit price               1000 non-null   float64\n",
      " 7   Quantity                 1000 non-null   int64  \n",
      " 8   Tax 5%                   1000 non-null   float64\n",
      " 9   Total                    1000 non-null   float64\n",
      " 10  Date                     1000 non-null   object \n",
      " 11  Time                     1000 non-null   object \n",
      " 12  Payment                  1000 non-null   object \n",
      " 13  cogs                     1000 non-null   float64\n",
      " 14  gross margin percentage  1000 non-null   float64\n",
      " 15  gross income             1000 non-null   float64\n",
      " 16  Rating                   1000 non-null   float64\n",
      "dtypes: float64(7), int64(1), object(9)\n",
      "memory usage: 132.9+ KB\n"
     ]
    }
   ],
   "source": [
    "df.info()"
   ]
  },
  {
   "cell_type": "code",
   "execution_count": 9,
   "metadata": {},
   "outputs": [
    {
     "data": {
      "text/plain": [
       "Invoice ID                 0\n",
       "Branch                     0\n",
       "City                       0\n",
       "Customer type              0\n",
       "Gender                     0\n",
       "Product line               0\n",
       "Unit price                 0\n",
       "Quantity                   0\n",
       "Tax 5%                     0\n",
       "Total                      0\n",
       "Date                       0\n",
       "Time                       0\n",
       "Payment                    0\n",
       "cogs                       0\n",
       "gross margin percentage    0\n",
       "gross income               0\n",
       "Rating                     0\n",
       "dtype: int64"
      ]
     },
     "execution_count": 9,
     "metadata": {},
     "output_type": "execute_result"
    }
   ],
   "source": [
    "df.isna().sum()"
   ]
  },
  {
   "cell_type": "code",
   "execution_count": 10,
   "metadata": {},
   "outputs": [
    {
     "data": {
      "text/html": [
       "<div>\n",
       "<style scoped>\n",
       "    .dataframe tbody tr th:only-of-type {\n",
       "        vertical-align: middle;\n",
       "    }\n",
       "\n",
       "    .dataframe tbody tr th {\n",
       "        vertical-align: top;\n",
       "    }\n",
       "\n",
       "    .dataframe thead th {\n",
       "        text-align: right;\n",
       "    }\n",
       "</style>\n",
       "<table border=\"1\" class=\"dataframe\">\n",
       "  <thead>\n",
       "    <tr style=\"text-align: right;\">\n",
       "      <th></th>\n",
       "      <th>Unit price</th>\n",
       "      <th>Quantity</th>\n",
       "      <th>Tax 5%</th>\n",
       "      <th>Total</th>\n",
       "      <th>cogs</th>\n",
       "      <th>gross margin percentage</th>\n",
       "      <th>gross income</th>\n",
       "      <th>Rating</th>\n",
       "    </tr>\n",
       "  </thead>\n",
       "  <tbody>\n",
       "    <tr>\n",
       "      <th>count</th>\n",
       "      <td>1000.000000</td>\n",
       "      <td>1000.000000</td>\n",
       "      <td>1000.000000</td>\n",
       "      <td>1000.000000</td>\n",
       "      <td>1000.00000</td>\n",
       "      <td>1.000000e+03</td>\n",
       "      <td>1000.000000</td>\n",
       "      <td>1000.00000</td>\n",
       "    </tr>\n",
       "    <tr>\n",
       "      <th>mean</th>\n",
       "      <td>55.672130</td>\n",
       "      <td>5.510000</td>\n",
       "      <td>15.379369</td>\n",
       "      <td>322.966749</td>\n",
       "      <td>307.58738</td>\n",
       "      <td>4.761905e+00</td>\n",
       "      <td>15.379369</td>\n",
       "      <td>6.97270</td>\n",
       "    </tr>\n",
       "    <tr>\n",
       "      <th>std</th>\n",
       "      <td>26.494628</td>\n",
       "      <td>2.923431</td>\n",
       "      <td>11.708825</td>\n",
       "      <td>245.885335</td>\n",
       "      <td>234.17651</td>\n",
       "      <td>6.220360e-14</td>\n",
       "      <td>11.708825</td>\n",
       "      <td>1.71858</td>\n",
       "    </tr>\n",
       "    <tr>\n",
       "      <th>min</th>\n",
       "      <td>10.080000</td>\n",
       "      <td>1.000000</td>\n",
       "      <td>0.508500</td>\n",
       "      <td>10.678500</td>\n",
       "      <td>10.17000</td>\n",
       "      <td>4.761905e+00</td>\n",
       "      <td>0.508500</td>\n",
       "      <td>4.00000</td>\n",
       "    </tr>\n",
       "    <tr>\n",
       "      <th>25%</th>\n",
       "      <td>32.875000</td>\n",
       "      <td>3.000000</td>\n",
       "      <td>5.924875</td>\n",
       "      <td>124.422375</td>\n",
       "      <td>118.49750</td>\n",
       "      <td>4.761905e+00</td>\n",
       "      <td>5.924875</td>\n",
       "      <td>5.50000</td>\n",
       "    </tr>\n",
       "    <tr>\n",
       "      <th>50%</th>\n",
       "      <td>55.230000</td>\n",
       "      <td>5.000000</td>\n",
       "      <td>12.088000</td>\n",
       "      <td>253.848000</td>\n",
       "      <td>241.76000</td>\n",
       "      <td>4.761905e+00</td>\n",
       "      <td>12.088000</td>\n",
       "      <td>7.00000</td>\n",
       "    </tr>\n",
       "    <tr>\n",
       "      <th>75%</th>\n",
       "      <td>77.935000</td>\n",
       "      <td>8.000000</td>\n",
       "      <td>22.445250</td>\n",
       "      <td>471.350250</td>\n",
       "      <td>448.90500</td>\n",
       "      <td>4.761905e+00</td>\n",
       "      <td>22.445250</td>\n",
       "      <td>8.50000</td>\n",
       "    </tr>\n",
       "    <tr>\n",
       "      <th>max</th>\n",
       "      <td>99.960000</td>\n",
       "      <td>10.000000</td>\n",
       "      <td>49.650000</td>\n",
       "      <td>1042.650000</td>\n",
       "      <td>993.00000</td>\n",
       "      <td>4.761905e+00</td>\n",
       "      <td>49.650000</td>\n",
       "      <td>10.00000</td>\n",
       "    </tr>\n",
       "  </tbody>\n",
       "</table>\n",
       "</div>"
      ],
      "text/plain": [
       "        Unit price     Quantity       Tax 5%        Total        cogs  \\\n",
       "count  1000.000000  1000.000000  1000.000000  1000.000000  1000.00000   \n",
       "mean     55.672130     5.510000    15.379369   322.966749   307.58738   \n",
       "std      26.494628     2.923431    11.708825   245.885335   234.17651   \n",
       "min      10.080000     1.000000     0.508500    10.678500    10.17000   \n",
       "25%      32.875000     3.000000     5.924875   124.422375   118.49750   \n",
       "50%      55.230000     5.000000    12.088000   253.848000   241.76000   \n",
       "75%      77.935000     8.000000    22.445250   471.350250   448.90500   \n",
       "max      99.960000    10.000000    49.650000  1042.650000   993.00000   \n",
       "\n",
       "       gross margin percentage  gross income      Rating  \n",
       "count             1.000000e+03   1000.000000  1000.00000  \n",
       "mean              4.761905e+00     15.379369     6.97270  \n",
       "std               6.220360e-14     11.708825     1.71858  \n",
       "min               4.761905e+00      0.508500     4.00000  \n",
       "25%               4.761905e+00      5.924875     5.50000  \n",
       "50%               4.761905e+00     12.088000     7.00000  \n",
       "75%               4.761905e+00     22.445250     8.50000  \n",
       "max               4.761905e+00     49.650000    10.00000  "
      ]
     },
     "execution_count": 10,
     "metadata": {},
     "output_type": "execute_result"
    }
   ],
   "source": [
    "df.describe()"
   ]
  },
  {
   "cell_type": "markdown",
   "metadata": {},
   "source": [
    "#  Popular payment method"
   ]
  },
  {
   "cell_type": "code",
   "execution_count": 11,
   "metadata": {},
   "outputs": [
    {
     "name": "stderr",
     "output_type": "stream",
     "text": [
      "C:\\Users\\Dell\\anaconda3\\lib\\site-packages\\seaborn\\_decorators.py:36: FutureWarning: Pass the following variable as a keyword arg: x. From version 0.12, the only valid positional argument will be `data`, and passing other arguments without an explicit keyword will result in an error or misinterpretation.\n",
      "  warnings.warn(\n"
     ]
    },
    {
     "data": {
      "text/plain": [
       "<AxesSubplot:xlabel='Payment', ylabel='count'>"
      ]
     },
     "execution_count": 11,
     "metadata": {},
     "output_type": "execute_result"
    },
    {
     "data": {
      "image/png": "[encoded data removed]",
      "text/plain": [
       "<Figure size 432x288 with 1 Axes>"
      ]
     },
     "metadata": {
      "needs_background": "light"
     },
     "output_type": "display_data"
    }
   ],
   "source": [
    "sns.countplot('Payment', data = df)"
   ]
  },
  {
   "cell_type": "code",
   "execution_count": 12,
   "metadata": {},
   "outputs": [
    {
     "data": {
      "text/plain": [
       "Ewallet        345\n",
       "Cash           344\n",
       "Credit card    311\n",
       "Name: Payment, dtype: int64"
      ]
     },
     "execution_count": 12,
     "metadata": {},
     "output_type": "execute_result"
    }
   ],
   "source": [
    "df['Payment'].value_counts()"
   ]
  },
  {
   "cell_type": "markdown",
   "metadata": {},
   "source": [
    "#  Does gross income affect ratings"
   ]
  },
  {
   "cell_type": "code",
   "execution_count": 13,
   "metadata": {},
   "outputs": [
    {
     "data": {
      "text/plain": [
       "<AxesSubplot:>"
      ]
     },
     "execution_count": 13,
     "metadata": {},
     "output_type": "execute_result"
    },
    {
     "data": {
      "image/png": "[encoded data removed]",
      "text/plain": [
       "<Figure size 864x720 with 2 Axes>"
      ]
     },
     "metadata": {
      "needs_background": "light"
     },
     "output_type": "display_data"
    }
   ],
   "source": [
    "plt.figure(figsize = (12,10))\n",
    "\n",
    "sns.heatmap(df.corr(), cmap = 'YlGnBu', annot =True)"
   ]
  },
  {
   "cell_type": "markdown",
   "metadata": {},
   "source": [
    "#  Most profitable branch"
   ]
  },
  {
   "cell_type": "code",
   "execution_count": 15,
   "metadata": {},
   "outputs": [
    {
     "data": {
      "text/plain": [
       "<AxesSubplot:xlabel='Branch', ylabel='gross margin percentage'>"
      ]
     },
     "execution_count": 15,
     "metadata": {},
     "output_type": "execute_result"
    },
    {
     "data": {
      "image/png": "[encoded data removed]",
      "text/plain": [
       "<Figure size 432x288 with 1 Axes>"
      ]
     },
     "metadata": {
      "needs_background": "light"
     },
     "output_type": "display_data"
    }
   ],
   "source": [
    "sns.barplot(x=\"Branch\", y=\"gross margin percentage\", data=df)"
   ]
  },
  {
   "cell_type": "code",
   "execution_count": 17,
   "metadata": {},
   "outputs": [
    {
     "data": {
      "text/plain": [
       "<AxesSubplot:xlabel='Branch', ylabel='gross income'>"
      ]
     },
     "execution_count": 17,
     "metadata": {},
     "output_type": "execute_result"
    },
    {
     "data": {
      "image/png": "[encoded data removed]",
      "text/plain": [
       "<Figure size 432x288 with 1 Axes>"
      ]
     },
     "metadata": {
      "needs_background": "light"
     },
     "output_type": "display_data"
    }
   ],
   "source": [
    "sns.barplot(x=\"Branch\", y=\"gross income\", data=df)"
   ]
  },
  {
   "cell_type": "code",
   "execution_count": 18,
   "metadata": {},
   "outputs": [
    {
     "data": {
      "text/html": [
       "<div>\n",
       "<style scoped>\n",
       "    .dataframe tbody tr th:only-of-type {\n",
       "        vertical-align: middle;\n",
       "    }\n",
       "\n",
       "    .dataframe tbody tr th {\n",
       "        vertical-align: top;\n",
       "    }\n",
       "\n",
       "    .dataframe thead th {\n",
       "        text-align: right;\n",
       "    }\n",
       "</style>\n",
       "<table border=\"1\" class=\"dataframe\">\n",
       "  <thead>\n",
       "    <tr style=\"text-align: right;\">\n",
       "      <th></th>\n",
       "      <th>Invoice ID</th>\n",
       "      <th>Branch</th>\n",
       "      <th>City</th>\n",
       "      <th>Customer type</th>\n",
       "      <th>Gender</th>\n",
       "      <th>Product line</th>\n",
       "      <th>Unit price</th>\n",
       "      <th>Quantity</th>\n",
       "      <th>Tax 5%</th>\n",
       "      <th>Total</th>\n",
       "      <th>Date</th>\n",
       "      <th>Time</th>\n",
       "      <th>Payment</th>\n",
       "      <th>cogs</th>\n",
       "      <th>gross margin percentage</th>\n",
       "      <th>gross income</th>\n",
       "      <th>Rating</th>\n",
       "    </tr>\n",
       "  </thead>\n",
       "  <tbody>\n",
       "    <tr>\n",
       "      <th>0</th>\n",
       "      <td>750-67-8428</td>\n",
       "      <td>A</td>\n",
       "      <td>Yangon</td>\n",
       "      <td>Member</td>\n",
       "      <td>Female</td>\n",
       "      <td>Health and beauty</td>\n",
       "      <td>74.69</td>\n",
       "      <td>7</td>\n",
       "      <td>26.1415</td>\n",
       "      <td>548.9715</td>\n",
       "      <td>1/5/2019</td>\n",
       "      <td>13:08</td>\n",
       "      <td>Ewallet</td>\n",
       "      <td>522.83</td>\n",
       "      <td>4.761905</td>\n",
       "      <td>26.1415</td>\n",
       "      <td>9.1</td>\n",
       "    </tr>\n",
       "    <tr>\n",
       "      <th>1</th>\n",
       "      <td>226-31-3081</td>\n",
       "      <td>C</td>\n",
       "      <td>Naypyitaw</td>\n",
       "      <td>Normal</td>\n",
       "      <td>Female</td>\n",
       "      <td>Electronic accessories</td>\n",
       "      <td>15.28</td>\n",
       "      <td>5</td>\n",
       "      <td>3.8200</td>\n",
       "      <td>80.2200</td>\n",
       "      <td>3/8/2019</td>\n",
       "      <td>10:29</td>\n",
       "      <td>Cash</td>\n",
       "      <td>76.40</td>\n",
       "      <td>4.761905</td>\n",
       "      <td>3.8200</td>\n",
       "      <td>9.6</td>\n",
       "    </tr>\n",
       "    <tr>\n",
       "      <th>2</th>\n",
       "      <td>631-41-3108</td>\n",
       "      <td>A</td>\n",
       "      <td>Yangon</td>\n",
       "      <td>Normal</td>\n",
       "      <td>Male</td>\n",
       "      <td>Home and lifestyle</td>\n",
       "      <td>46.33</td>\n",
       "      <td>7</td>\n",
       "      <td>16.2155</td>\n",
       "      <td>340.5255</td>\n",
       "      <td>3/3/2019</td>\n",
       "      <td>13:23</td>\n",
       "      <td>Credit card</td>\n",
       "      <td>324.31</td>\n",
       "      <td>4.761905</td>\n",
       "      <td>16.2155</td>\n",
       "      <td>7.4</td>\n",
       "    </tr>\n",
       "    <tr>\n",
       "      <th>3</th>\n",
       "      <td>123-19-1176</td>\n",
       "      <td>A</td>\n",
       "      <td>Yangon</td>\n",
       "      <td>Member</td>\n",
       "      <td>Male</td>\n",
       "      <td>Health and beauty</td>\n",
       "      <td>58.22</td>\n",
       "      <td>8</td>\n",
       "      <td>23.2880</td>\n",
       "      <td>489.0480</td>\n",
       "      <td>1/27/2019</td>\n",
       "      <td>20:33</td>\n",
       "      <td>Ewallet</td>\n",
       "      <td>465.76</td>\n",
       "      <td>4.761905</td>\n",
       "      <td>23.2880</td>\n",
       "      <td>8.4</td>\n",
       "    </tr>\n",
       "    <tr>\n",
       "      <th>4</th>\n",
       "      <td>373-73-7910</td>\n",
       "      <td>A</td>\n",
       "      <td>Yangon</td>\n",
       "      <td>Normal</td>\n",
       "      <td>Male</td>\n",
       "      <td>Sports and travel</td>\n",
       "      <td>86.31</td>\n",
       "      <td>7</td>\n",
       "      <td>30.2085</td>\n",
       "      <td>634.3785</td>\n",
       "      <td>2/8/2019</td>\n",
       "      <td>10:37</td>\n",
       "      <td>Ewallet</td>\n",
       "      <td>604.17</td>\n",
       "      <td>4.761905</td>\n",
       "      <td>30.2085</td>\n",
       "      <td>5.3</td>\n",
       "    </tr>\n",
       "  </tbody>\n",
       "</table>\n",
       "</div>"
      ],
      "text/plain": [
       "    Invoice ID Branch       City Customer type  Gender  \\\n",
       "0  750-67-8428      A     Yangon        Member  Female   \n",
       "1  226-31-3081      C  Naypyitaw        Normal  Female   \n",
       "2  631-41-3108      A     Yangon        Normal    Male   \n",
       "3  123-19-1176      A     Yangon        Member    Male   \n",
       "4  373-73-7910      A     Yangon        Normal    Male   \n",
       "\n",
       "             Product line  Unit price  Quantity   Tax 5%     Total       Date  \\\n",
       "0       Health and beauty       74.69         7  26.1415  548.9715   1/5/2019   \n",
       "1  Electronic accessories       15.28         5   3.8200   80.2200   3/8/2019   \n",
       "2      Home and lifestyle       46.33         7  16.2155  340.5255   3/3/2019   \n",
       "3       Health and beauty       58.22         8  23.2880  489.0480  1/27/2019   \n",
       "4       Sports and travel       86.31         7  30.2085  634.3785   2/8/2019   \n",
       "\n",
       "    Time      Payment    cogs  gross margin percentage  gross income  Rating  \n",
       "0  13:08      Ewallet  522.83                 4.761905       26.1415     9.1  \n",
       "1  10:29         Cash   76.40                 4.761905        3.8200     9.6  \n",
       "2  13:23  Credit card  324.31                 4.761905       16.2155     7.4  \n",
       "3  20:33      Ewallet  465.76                 4.761905       23.2880     8.4  \n",
       "4  10:37      Ewallet  604.17                 4.761905       30.2085     5.3  "
      ]
     },
     "execution_count": 18,
     "metadata": {},
     "output_type": "execute_result"
    }
   ],
   "source": [
    "data = df\n",
    "data.head()"
   ]
  },
  {
   "cell_type": "code",
   "execution_count": 20,
   "metadata": {},
   "outputs": [
    {
     "data": {
      "text/plain": [
       "Invoice ID                 0\n",
       "Branch                     0\n",
       "City                       0\n",
       "Customer type              0\n",
       "Gender                     0\n",
       "Product line               0\n",
       "Unit price                 0\n",
       "Quantity                   0\n",
       "Tax 5%                     0\n",
       "Total                      0\n",
       "Date                       0\n",
       "Time                       0\n",
       "Payment                    0\n",
       "cogs                       0\n",
       "gross margin percentage    0\n",
       "gross income               0\n",
       "Rating                     0\n",
       "dtype: int64"
      ]
     },
     "execution_count": 20,
     "metadata": {},
     "output_type": "execute_result"
    }
   ],
   "source": [
    "data.isna().sum()"
   ]
  },
  {
   "cell_type": "code",
   "execution_count": 21,
   "metadata": {},
   "outputs": [],
   "source": [
    "#lets find the categorialfeatures\n",
    "list_1=list(data.columns)\n",
    "list_cate=[]\n",
    "for i in list_1:\n",
    "    if data[i].dtype=='object':\n",
    "        list_cate.append(i)"
   ]
  },
  {
   "cell_type": "code",
   "execution_count": 22,
   "metadata": {},
   "outputs": [
    {
     "name": "stdout",
     "output_type": "stream",
     "text": [
      "['Invoice ID', 'Branch', 'City', 'Customer type', 'Gender', 'Product line', 'Date', 'Time', 'Payment']\n"
     ]
    }
   ],
   "source": [
    "print(list_cate)"
   ]
  },
  {
   "cell_type": "code",
   "execution_count": 23,
   "metadata": {},
   "outputs": [],
   "source": [
    "from sklearn.preprocessing import LabelEncoder\n",
    "le=LabelEncoder()\n",
    "for i in list_cate:\n",
    "    data[i]=le.fit_transform(data[i])"
   ]
  },
  {
   "cell_type": "code",
   "execution_count": 24,
   "metadata": {},
   "outputs": [
    {
     "data": {
      "text/html": [
       "<div>\n",
       "<style scoped>\n",
       "    .dataframe tbody tr th:only-of-type {\n",
       "        vertical-align: middle;\n",
       "    }\n",
       "\n",
       "    .dataframe tbody tr th {\n",
       "        vertical-align: top;\n",
       "    }\n",
       "\n",
       "    .dataframe thead th {\n",
       "        text-align: right;\n",
       "    }\n",
       "</style>\n",
       "<table border=\"1\" class=\"dataframe\">\n",
       "  <thead>\n",
       "    <tr style=\"text-align: right;\">\n",
       "      <th></th>\n",
       "      <th>Invoice ID</th>\n",
       "      <th>Branch</th>\n",
       "      <th>City</th>\n",
       "      <th>Customer type</th>\n",
       "      <th>Gender</th>\n",
       "      <th>Product line</th>\n",
       "      <th>Unit price</th>\n",
       "      <th>Quantity</th>\n",
       "      <th>Tax 5%</th>\n",
       "      <th>Total</th>\n",
       "      <th>Date</th>\n",
       "      <th>Time</th>\n",
       "      <th>Payment</th>\n",
       "      <th>cogs</th>\n",
       "      <th>gross margin percentage</th>\n",
       "      <th>gross income</th>\n",
       "      <th>Rating</th>\n",
       "    </tr>\n",
       "  </thead>\n",
       "  <tbody>\n",
       "    <tr>\n",
       "      <th>0</th>\n",
       "      <td>814</td>\n",
       "      <td>0</td>\n",
       "      <td>2</td>\n",
       "      <td>0</td>\n",
       "      <td>0</td>\n",
       "      <td>3</td>\n",
       "      <td>74.69</td>\n",
       "      <td>7</td>\n",
       "      <td>26.1415</td>\n",
       "      <td>548.9715</td>\n",
       "      <td>26</td>\n",
       "      <td>146</td>\n",
       "      <td>2</td>\n",
       "      <td>522.83</td>\n",
       "      <td>4.761905</td>\n",
       "      <td>26.1415</td>\n",
       "      <td>9.1</td>\n",
       "    </tr>\n",
       "    <tr>\n",
       "      <th>1</th>\n",
       "      <td>142</td>\n",
       "      <td>2</td>\n",
       "      <td>1</td>\n",
       "      <td>1</td>\n",
       "      <td>0</td>\n",
       "      <td>0</td>\n",
       "      <td>15.28</td>\n",
       "      <td>5</td>\n",
       "      <td>3.8200</td>\n",
       "      <td>80.2200</td>\n",
       "      <td>87</td>\n",
       "      <td>23</td>\n",
       "      <td>0</td>\n",
       "      <td>76.40</td>\n",
       "      <td>4.761905</td>\n",
       "      <td>3.8200</td>\n",
       "      <td>9.6</td>\n",
       "    </tr>\n",
       "    <tr>\n",
       "      <th>2</th>\n",
       "      <td>653</td>\n",
       "      <td>0</td>\n",
       "      <td>2</td>\n",
       "      <td>1</td>\n",
       "      <td>1</td>\n",
       "      <td>4</td>\n",
       "      <td>46.33</td>\n",
       "      <td>7</td>\n",
       "      <td>16.2155</td>\n",
       "      <td>340.5255</td>\n",
       "      <td>81</td>\n",
       "      <td>155</td>\n",
       "      <td>1</td>\n",
       "      <td>324.31</td>\n",
       "      <td>4.761905</td>\n",
       "      <td>16.2155</td>\n",
       "      <td>7.4</td>\n",
       "    </tr>\n",
       "    <tr>\n",
       "      <th>3</th>\n",
       "      <td>18</td>\n",
       "      <td>0</td>\n",
       "      <td>2</td>\n",
       "      <td>0</td>\n",
       "      <td>1</td>\n",
       "      <td>3</td>\n",
       "      <td>58.22</td>\n",
       "      <td>8</td>\n",
       "      <td>23.2880</td>\n",
       "      <td>489.0480</td>\n",
       "      <td>19</td>\n",
       "      <td>485</td>\n",
       "      <td>2</td>\n",
       "      <td>465.76</td>\n",
       "      <td>4.761905</td>\n",
       "      <td>23.2880</td>\n",
       "      <td>8.4</td>\n",
       "    </tr>\n",
       "    <tr>\n",
       "      <th>4</th>\n",
       "      <td>339</td>\n",
       "      <td>0</td>\n",
       "      <td>2</td>\n",
       "      <td>1</td>\n",
       "      <td>1</td>\n",
       "      <td>5</td>\n",
       "      <td>86.31</td>\n",
       "      <td>7</td>\n",
       "      <td>30.2085</td>\n",
       "      <td>634.3785</td>\n",
       "      <td>57</td>\n",
       "      <td>29</td>\n",
       "      <td>2</td>\n",
       "      <td>604.17</td>\n",
       "      <td>4.761905</td>\n",
       "      <td>30.2085</td>\n",
       "      <td>5.3</td>\n",
       "    </tr>\n",
       "  </tbody>\n",
       "</table>\n",
       "</div>"
      ],
      "text/plain": [
       "   Invoice ID  Branch  City  Customer type  Gender  Product line  Unit price  \\\n",
       "0         814       0     2              0       0             3       74.69   \n",
       "1         142       2     1              1       0             0       15.28   \n",
       "2         653       0     2              1       1             4       46.33   \n",
       "3          18       0     2              0       1             3       58.22   \n",
       "4         339       0     2              1       1             5       86.31   \n",
       "\n",
       "   Quantity   Tax 5%     Total  Date  Time  Payment    cogs  \\\n",
       "0         7  26.1415  548.9715    26   146        2  522.83   \n",
       "1         5   3.8200   80.2200    87    23        0   76.40   \n",
       "2         7  16.2155  340.5255    81   155        1  324.31   \n",
       "3         8  23.2880  489.0480    19   485        2  465.76   \n",
       "4         7  30.2085  634.3785    57    29        2  604.17   \n",
       "\n",
       "   gross margin percentage  gross income  Rating  \n",
       "0                 4.761905       26.1415     9.1  \n",
       "1                 4.761905        3.8200     9.6  \n",
       "2                 4.761905       16.2155     7.4  \n",
       "3                 4.761905       23.2880     8.4  \n",
       "4                 4.761905       30.2085     5.3  "
      ]
     },
     "execution_count": 24,
     "metadata": {},
     "output_type": "execute_result"
    }
   ],
   "source": [
    "data.head()"
   ]
  },
  {
   "cell_type": "markdown",
   "metadata": {},
   "source": [
    "#  Relation between gender and gross income"
   ]
  },
  {
   "cell_type": "code",
   "execution_count": 25,
   "metadata": {},
   "outputs": [
    {
     "data": {
      "text/plain": [
       "<AxesSubplot:>"
      ]
     },
     "execution_count": 25,
     "metadata": {},
     "output_type": "execute_result"
    },
    {
     "data": {
      "image/png": "[encoded data removed]",
      "text/plain": [
       "<Figure size 864x720 with 2 Axes>"
      ]
     },
     "metadata": {
      "needs_background": "light"
     },
     "output_type": "display_data"
    }
   ],
   "source": [
    "plt.figure(figsize = (12,10))\n",
    "\n",
    "sns.heatmap(data.corr(), annot =True, fmt = '.0%')"
   ]
  },
  {
   "cell_type": "markdown",
   "metadata": {},
   "source": [
    "# Time series Analysis"
   ]
  },
  {
   "cell_type": "code",
   "execution_count": 26,
   "metadata": {},
   "outputs": [],
   "source": [
    "df1 = df"
   ]
  },
  {
   "cell_type": "code",
   "execution_count": 30,
   "metadata": {},
   "outputs": [],
   "source": [
    "df1['Date'] = pd.to_datetime(df1['Date'], format = '%-m/%w/%Y')"
   ]
  },
  {
   "cell_type": "code",
   "execution_count": 35,
   "metadata": {},
   "outputs": [
    {
     "data": {
      "text/plain": [
       "0     1970-01-01 00:00:00.000000026\n",
       "1     1970-01-01 00:00:00.000000087\n",
       "2     1970-01-01 00:00:00.000000081\n",
       "3     1970-01-01 00:00:00.000000019\n",
       "4     1970-01-01 00:00:00.000000057\n",
       "                   ...             \n",
       "995   1970-01-01 00:00:00.000000021\n",
       "996   1970-01-01 00:00:00.000000070\n",
       "997   1970-01-01 00:00:00.000000058\n",
       "998   1970-01-01 00:00:00.000000045\n",
       "999   1970-01-01 00:00:00.000000040\n",
       "Name: Date, Length: 1000, dtype: datetime64[ns]"
      ]
     },
     "execution_count": 35,
     "metadata": {},
     "output_type": "execute_result"
    }
   ],
   "source": [
    "df1['Date']"
   ]
  },
  {
   "cell_type": "code",
   "execution_count": 32,
   "metadata": {
    "scrolled": true
   },
   "outputs": [
    {
     "data": {
      "text/plain": [
       "<AxesSubplot:xlabel='Date', ylabel='gross income'>"
      ]
     },
     "execution_count": 32,
     "metadata": {},
     "output_type": "execute_result"
    },
    {
     "data": {
      "image/png": "[encoded data removed]",
      "text/plain": [
       "<Figure size 864x504 with 1 Axes>"
      ]
     },
     "metadata": {
      "needs_background": "light"
     },
     "output_type": "display_data"
    }
   ],
   "source": [
    "plt.figure(figsize = (12,7))\n",
    "sns.lineplot(x = 'Date', y = 'gross income', data = df1)"
   ]
  },
  {
   "cell_type": "code",
   "execution_count": 37,
   "metadata": {},
   "outputs": [
    {
     "data": {
      "text/plain": [
       "0      146\n",
       "1       23\n",
       "2      155\n",
       "3      485\n",
       "4       29\n",
       "      ... \n",
       "995    174\n",
       "996    342\n",
       "997    154\n",
       "998    261\n",
       "999    160\n",
       "Name: Time, Length: 1000, dtype: int32"
      ]
     },
     "execution_count": 37,
     "metadata": {},
     "output_type": "execute_result"
    }
   ],
   "source": [
    "df['Time']"
   ]
  },
  {
   "cell_type": "code",
   "execution_count": 33,
   "metadata": {},
   "outputs": [
    {
     "data": {
      "text/plain": [
       "<AxesSubplot:xlabel='Date', ylabel='gross income'>"
      ]
     },
     "execution_count": 33,
     "metadata": {},
     "output_type": "execute_result"
    },
    {
     "data": {
      "image/png": "[encoded data removed]",
      "text/plain": [
       "<Figure size 864x504 with 1 Axes>"
      ]
     },
     "metadata": {
      "needs_background": "light"
     },
     "output_type": "display_data"
    }
   ],
   "source": [
    "plt.figure(figsize = (12,7))\n",
    "sns.lineplot(x = 'Date', y = 'gross income', data = df)"
   ]
  },
  {
   "cell_type": "code",
   "execution_count": 38,
   "metadata": {},
   "outputs": [
    {
     "name": "stdout",
     "output_type": "stream",
     "text": [
      "<class 'pandas.core.frame.DataFrame'>\n",
      "RangeIndex: 1000 entries, 0 to 999\n",
      "Data columns (total 17 columns):\n",
      " #   Column                   Non-Null Count  Dtype         \n",
      "---  ------                   --------------  -----         \n",
      " 0   Invoice ID               1000 non-null   int32         \n",
      " 1   Branch                   1000 non-null   int32         \n",
      " 2   City                     1000 non-null   int32         \n",
      " 3   Customer type            1000 non-null   int32         \n",
      " 4   Gender                   1000 non-null   int32         \n",
      " 5   Product line             1000 non-null   int32         \n",
      " 6   Unit price               1000 non-null   float64       \n",
      " 7   Quantity                 1000 non-null   int64         \n",
      " 8   Tax 5%                   1000 non-null   float64       \n",
      " 9   Total                    1000 non-null   float64       \n",
      " 10  Date                     1000 non-null   datetime64[ns]\n",
      " 11  Time                     1000 non-null   int32         \n",
      " 12  Payment                  1000 non-null   int32         \n",
      " 13  cogs                     1000 non-null   float64       \n",
      " 14  gross margin percentage  1000 non-null   float64       \n",
      " 15  gross income             1000 non-null   float64       \n",
      " 16  Rating                   1000 non-null   float64       \n",
      "dtypes: datetime64[ns](1), float64(7), int32(8), int64(1)\n",
      "memory usage: 101.7 KB\n"
     ]
    }
   ],
   "source": [
    "df.info()"
   ]
  },
  {
   "cell_type": "code",
   "execution_count": 45,
   "metadata": {},
   "outputs": [
    {
     "data": {
      "text/html": [
       "<div>\n",
       "<style scoped>\n",
       "    .dataframe tbody tr th:only-of-type {\n",
       "        vertical-align: middle;\n",
       "    }\n",
       "\n",
       "    .dataframe tbody tr th {\n",
       "        vertical-align: top;\n",
       "    }\n",
       "\n",
       "    .dataframe thead th {\n",
       "        text-align: right;\n",
       "    }\n",
       "</style>\n",
       "<table border=\"1\" class=\"dataframe\">\n",
       "  <thead>\n",
       "    <tr style=\"text-align: right;\">\n",
       "      <th></th>\n",
       "      <th>Invoice ID</th>\n",
       "      <th>Branch</th>\n",
       "      <th>City</th>\n",
       "      <th>Customer type</th>\n",
       "      <th>Gender</th>\n",
       "      <th>Product line</th>\n",
       "      <th>Unit price</th>\n",
       "      <th>Quantity</th>\n",
       "      <th>Tax 5%</th>\n",
       "      <th>Total</th>\n",
       "      <th>Date</th>\n",
       "      <th>Time</th>\n",
       "      <th>Payment</th>\n",
       "      <th>cogs</th>\n",
       "      <th>gross margin percentage</th>\n",
       "      <th>gross income</th>\n",
       "      <th>Rating</th>\n",
       "    </tr>\n",
       "  </thead>\n",
       "  <tbody>\n",
       "    <tr>\n",
       "      <th>0</th>\n",
       "      <td>750-67-8428</td>\n",
       "      <td>A</td>\n",
       "      <td>Yangon</td>\n",
       "      <td>Member</td>\n",
       "      <td>Female</td>\n",
       "      <td>Health and beauty</td>\n",
       "      <td>74.69</td>\n",
       "      <td>7</td>\n",
       "      <td>26.1415</td>\n",
       "      <td>548.9715</td>\n",
       "      <td>1/5/2019</td>\n",
       "      <td>13:08</td>\n",
       "      <td>Ewallet</td>\n",
       "      <td>522.83</td>\n",
       "      <td>4.761905</td>\n",
       "      <td>26.1415</td>\n",
       "      <td>9.1</td>\n",
       "    </tr>\n",
       "    <tr>\n",
       "      <th>1</th>\n",
       "      <td>226-31-3081</td>\n",
       "      <td>C</td>\n",
       "      <td>Naypyitaw</td>\n",
       "      <td>Normal</td>\n",
       "      <td>Female</td>\n",
       "      <td>Electronic accessories</td>\n",
       "      <td>15.28</td>\n",
       "      <td>5</td>\n",
       "      <td>3.8200</td>\n",
       "      <td>80.2200</td>\n",
       "      <td>3/8/2019</td>\n",
       "      <td>10:29</td>\n",
       "      <td>Cash</td>\n",
       "      <td>76.40</td>\n",
       "      <td>4.761905</td>\n",
       "      <td>3.8200</td>\n",
       "      <td>9.6</td>\n",
       "    </tr>\n",
       "    <tr>\n",
       "      <th>2</th>\n",
       "      <td>631-41-3108</td>\n",
       "      <td>A</td>\n",
       "      <td>Yangon</td>\n",
       "      <td>Normal</td>\n",
       "      <td>Male</td>\n",
       "      <td>Home and lifestyle</td>\n",
       "      <td>46.33</td>\n",
       "      <td>7</td>\n",
       "      <td>16.2155</td>\n",
       "      <td>340.5255</td>\n",
       "      <td>3/3/2019</td>\n",
       "      <td>13:23</td>\n",
       "      <td>Credit card</td>\n",
       "      <td>324.31</td>\n",
       "      <td>4.761905</td>\n",
       "      <td>16.2155</td>\n",
       "      <td>7.4</td>\n",
       "    </tr>\n",
       "    <tr>\n",
       "      <th>3</th>\n",
       "      <td>123-19-1176</td>\n",
       "      <td>A</td>\n",
       "      <td>Yangon</td>\n",
       "      <td>Member</td>\n",
       "      <td>Male</td>\n",
       "      <td>Health and beauty</td>\n",
       "      <td>58.22</td>\n",
       "      <td>8</td>\n",
       "      <td>23.2880</td>\n",
       "      <td>489.0480</td>\n",
       "      <td>1/27/2019</td>\n",
       "      <td>20:33</td>\n",
       "      <td>Ewallet</td>\n",
       "      <td>465.76</td>\n",
       "      <td>4.761905</td>\n",
       "      <td>23.2880</td>\n",
       "      <td>8.4</td>\n",
       "    </tr>\n",
       "    <tr>\n",
       "      <th>4</th>\n",
       "      <td>373-73-7910</td>\n",
       "      <td>A</td>\n",
       "      <td>Yangon</td>\n",
       "      <td>Normal</td>\n",
       "      <td>Male</td>\n",
       "      <td>Sports and travel</td>\n",
       "      <td>86.31</td>\n",
       "      <td>7</td>\n",
       "      <td>30.2085</td>\n",
       "      <td>634.3785</td>\n",
       "      <td>2/8/2019</td>\n",
       "      <td>10:37</td>\n",
       "      <td>Ewallet</td>\n",
       "      <td>604.17</td>\n",
       "      <td>4.761905</td>\n",
       "      <td>30.2085</td>\n",
       "      <td>5.3</td>\n",
       "    </tr>\n",
       "  </tbody>\n",
       "</table>\n",
       "</div>"
      ],
      "text/plain": [
       "    Invoice ID Branch       City Customer type  Gender  \\\n",
       "0  750-67-8428      A     Yangon        Member  Female   \n",
       "1  226-31-3081      C  Naypyitaw        Normal  Female   \n",
       "2  631-41-3108      A     Yangon        Normal    Male   \n",
       "3  123-19-1176      A     Yangon        Member    Male   \n",
       "4  373-73-7910      A     Yangon        Normal    Male   \n",
       "\n",
       "             Product line  Unit price  Quantity   Tax 5%     Total       Date  \\\n",
       "0       Health and beauty       74.69         7  26.1415  548.9715   1/5/2019   \n",
       "1  Electronic accessories       15.28         5   3.8200   80.2200   3/8/2019   \n",
       "2      Home and lifestyle       46.33         7  16.2155  340.5255   3/3/2019   \n",
       "3       Health and beauty       58.22         8  23.2880  489.0480  1/27/2019   \n",
       "4       Sports and travel       86.31         7  30.2085  634.3785   2/8/2019   \n",
       "\n",
       "    Time      Payment    cogs  gross margin percentage  gross income  Rating  \n",
       "0  13:08      Ewallet  522.83                 4.761905       26.1415     9.1  \n",
       "1  10:29         Cash   76.40                 4.761905        3.8200     9.6  \n",
       "2  13:23  Credit card  324.31                 4.761905       16.2155     7.4  \n",
       "3  20:33      Ewallet  465.76                 4.761905       23.2880     8.4  \n",
       "4  10:37      Ewallet  604.17                 4.761905       30.2085     5.3  "
      ]
     },
     "execution_count": 45,
     "metadata": {},
     "output_type": "execute_result"
    }
   ],
   "source": [
    "d1 = pd.read_csv('supermarkets3.csv')\n",
    "d1.head()"
   ]
  },
  {
   "cell_type": "code",
   "execution_count": 52,
   "metadata": {},
   "outputs": [],
   "source": [
    "dt_list = d1['Date'].tolist()"
   ]
  },
  {
   "cell_type": "code",
   "execution_count": 53,
   "metadata": {},
   "outputs": [
    {
     "data": {
      "text/plain": [
       "['1/5/2019',\n",
       " '3/8/2019',\n",
       " '3/3/2019',\n",
       " '1/27/2019',\n",
       " '2/8/2019',\n",
       " '3/25/2019',\n",
       " '2/25/2019',\n",
       " '2/24/2019',\n",
       " '1/10/2019',\n",
       " '2/20/2019',\n",
       " '2/6/2019',\n",
       " '3/9/2019',\n",
       " '2/12/2019',\n",
       " '2/7/2019',\n",
       " '3/29/2019',\n",
       " '1/15/2019',\n",
       " '3/11/2019',\n",
       " '1/1/2019',\n",
       " '1/21/2019',\n",
       " '3/11/2019',\n",
       " '2/25/2019',\n",
       " '3/5/2019',\n",
       " '3/15/2019',\n",
       " '2/17/2019',\n",
       " '3/2/2019',\n",
       " '3/22/2019',\n",
       " '2/8/2019',\n",
       " '3/10/2019',\n",
       " '1/25/2019',\n",
       " '3/15/2019',\n",
       " '2/25/2019',\n",
       " '1/28/2019',\n",
       " '1/10/2019',\n",
       " '3/15/2019',\n",
       " '2/6/2019',\n",
       " '1/7/2019',\n",
       " '3/10/2019',\n",
       " '1/15/2019',\n",
       " '3/23/2019',\n",
       " '3/3/2019',\n",
       " '1/17/2019',\n",
       " '2/2/2019',\n",
       " '2/8/2019',\n",
       " '3/4/2019',\n",
       " '3/16/2019',\n",
       " '3/9/2019',\n",
       " '2/27/2019',\n",
       " '2/6/2019',\n",
       " '2/10/2019',\n",
       " '3/19/2019',\n",
       " '2/3/2019',\n",
       " '2/10/2019',\n",
       " '3/22/2019',\n",
       " '1/25/2019',\n",
       " '3/7/2019',\n",
       " '2/28/2019',\n",
       " '3/27/2019',\n",
       " '2/7/2019',\n",
       " '1/20/2019',\n",
       " '3/12/2019',\n",
       " '2/15/2019',\n",
       " '2/24/2019',\n",
       " '2/3/2019',\n",
       " '3/6/2019',\n",
       " '2/14/2019',\n",
       " '3/13/2019',\n",
       " '2/10/2019',\n",
       " '1/7/2019',\n",
       " '1/24/2019',\n",
       " '2/2/2019',\n",
       " '1/6/2019',\n",
       " '2/11/2019',\n",
       " '3/5/2019',\n",
       " '3/9/2019',\n",
       " '1/22/2019',\n",
       " '1/13/2019',\n",
       " '1/9/2019',\n",
       " '1/12/2019',\n",
       " '3/5/2019',\n",
       " '1/22/2019',\n",
       " '1/21/2019',\n",
       " '1/26/2019',\n",
       " '1/23/2019',\n",
       " '2/23/2019',\n",
       " '3/9/2019',\n",
       " '3/5/2019',\n",
       " '3/25/2019',\n",
       " '3/27/2019',\n",
       " '1/2/2019',\n",
       " '2/27/2019',\n",
       " '1/23/2019',\n",
       " '1/26/2019',\n",
       " '1/10/2019',\n",
       " '3/12/2019',\n",
       " '2/6/2019',\n",
       " '3/8/2019',\n",
       " '3/29/2019',\n",
       " '2/9/2019',\n",
       " '3/23/2019',\n",
       " '3/5/2019',\n",
       " '3/26/2019',\n",
       " '3/1/2019',\n",
       " '2/1/2019',\n",
       " '3/28/2019',\n",
       " '3/19/2019',\n",
       " '1/12/2019',\n",
       " '1/5/2019',\n",
       " '3/22/2019',\n",
       " '3/24/2019',\n",
       " '3/3/2019',\n",
       " '2/5/2019',\n",
       " '2/5/2019',\n",
       " '2/15/2019',\n",
       " '1/19/2019',\n",
       " '2/1/2019',\n",
       " '3/2/2019',\n",
       " '3/5/2019',\n",
       " '1/16/2019',\n",
       " '2/2/2019',\n",
       " '1/20/2019',\n",
       " '2/14/2019',\n",
       " '1/12/2019',\n",
       " '3/9/2019',\n",
       " '3/13/2019',\n",
       " '3/9/2019',\n",
       " '3/10/2019',\n",
       " '1/27/2019',\n",
       " '1/8/2019',\n",
       " '1/8/2019',\n",
       " '2/8/2019',\n",
       " '1/25/2019',\n",
       " '3/6/2019',\n",
       " '2/10/2019',\n",
       " '2/17/2019',\n",
       " '3/8/2019',\n",
       " '2/18/2019',\n",
       " '1/18/2019',\n",
       " '2/18/2019',\n",
       " '2/16/2019',\n",
       " '3/16/2019',\n",
       " '1/23/2019',\n",
       " '1/25/2019',\n",
       " '2/5/2019',\n",
       " '2/22/2019',\n",
       " '1/21/2019',\n",
       " '3/8/2019',\n",
       " '2/10/2019',\n",
       " '3/19/2019',\n",
       " '3/6/2019',\n",
       " '3/27/2019',\n",
       " '3/23/2019',\n",
       " '3/11/2019',\n",
       " '1/29/2019',\n",
       " '2/7/2019',\n",
       " '1/28/2019',\n",
       " '2/20/2019',\n",
       " '1/4/2019',\n",
       " '3/7/2019',\n",
       " '3/30/2019',\n",
       " '3/27/2019',\n",
       " '1/19/2019',\n",
       " '2/25/2019',\n",
       " '3/13/2019',\n",
       " '1/30/2019',\n",
       " '2/20/2019',\n",
       " '2/25/2019',\n",
       " '1/16/2019',\n",
       " '2/8/2019',\n",
       " '1/19/2019',\n",
       " '2/1/2019',\n",
       " '1/3/2019',\n",
       " '1/26/2019',\n",
       " '3/3/2019',\n",
       " '1/19/2019',\n",
       " '1/18/2019',\n",
       " '3/21/2019',\n",
       " '3/3/2019',\n",
       " '2/13/2019',\n",
       " '3/23/2019',\n",
       " '1/28/2019',\n",
       " '2/9/2019',\n",
       " '1/23/2019',\n",
       " '3/23/2019',\n",
       " '1/25/2019',\n",
       " '3/4/2019',\n",
       " '3/5/2019',\n",
       " '3/3/2019',\n",
       " '2/8/2019',\n",
       " '2/10/2019',\n",
       " '1/28/2019',\n",
       " '2/11/2019',\n",
       " '1/15/2019',\n",
       " '3/16/2019',\n",
       " '1/26/2019',\n",
       " '3/19/2019',\n",
       " '1/13/2019',\n",
       " '3/26/2019',\n",
       " '3/23/2019',\n",
       " '3/12/2019',\n",
       " '2/17/2019',\n",
       " '1/29/2019',\n",
       " '3/15/2019',\n",
       " '1/14/2019',\n",
       " '2/6/2019',\n",
       " '2/15/2019',\n",
       " '1/3/2019',\n",
       " '1/4/2019',\n",
       " '3/18/2019',\n",
       " '3/28/2019',\n",
       " '3/2/2019',\n",
       " '1/25/2019',\n",
       " '1/16/2019',\n",
       " '3/20/2019',\n",
       " '1/4/2019',\n",
       " '3/11/2019',\n",
       " '3/22/2019',\n",
       " '3/24/2019',\n",
       " '2/21/2019',\n",
       " '2/12/2019',\n",
       " '3/10/2019',\n",
       " '1/31/2019',\n",
       " '3/6/2019',\n",
       " '2/17/2019',\n",
       " '2/21/2019',\n",
       " '3/20/2019',\n",
       " '1/11/2019',\n",
       " '1/26/2019',\n",
       " '1/31/2019',\n",
       " '2/26/2019',\n",
       " '3/11/2019',\n",
       " '1/26/2019',\n",
       " '3/12/2019',\n",
       " '2/11/2019',\n",
       " '2/21/2019',\n",
       " '3/9/2019',\n",
       " '1/20/2019',\n",
       " '1/28/2019',\n",
       " '3/5/2019',\n",
       " '3/2/2019',\n",
       " '1/11/2019',\n",
       " '1/11/2019',\n",
       " '3/11/2019',\n",
       " '2/28/2019',\n",
       " '1/5/2019',\n",
       " '2/2/2019',\n",
       " '1/1/2019',\n",
       " '2/9/2019',\n",
       " '1/23/2019',\n",
       " '1/7/2019',\n",
       " '1/14/2019',\n",
       " '2/2/2019',\n",
       " '3/17/2019',\n",
       " '3/2/2019',\n",
       " '3/16/2019',\n",
       " '1/6/2019',\n",
       " '1/29/2019',\n",
       " '1/31/2019',\n",
       " '2/5/2019',\n",
       " '2/13/2019',\n",
       " '2/7/2019',\n",
       " '3/19/2019',\n",
       " '3/7/2019',\n",
       " '3/13/2019',\n",
       " '2/9/2019',\n",
       " '2/26/2019',\n",
       " '3/12/2019',\n",
       " '3/14/2019',\n",
       " '1/8/2019',\n",
       " '1/5/2019',\n",
       " '1/4/2019',\n",
       " '3/6/2019',\n",
       " '1/3/2019',\n",
       " '1/7/2019',\n",
       " '1/27/2019',\n",
       " '2/26/2019',\n",
       " '1/7/2019',\n",
       " '1/7/2019',\n",
       " '2/2/2019',\n",
       " '3/20/2019',\n",
       " '3/20/2019',\n",
       " '2/15/2019',\n",
       " '3/6/2019',\n",
       " '1/6/2019',\n",
       " '3/4/2019',\n",
       " '3/12/2019',\n",
       " '2/20/2019',\n",
       " '3/24/2019',\n",
       " '1/31/2019',\n",
       " '1/25/2019',\n",
       " '2/3/2019',\n",
       " '1/24/2019',\n",
       " '3/14/2019',\n",
       " '2/18/2019',\n",
       " '1/21/2019',\n",
       " '3/13/2019',\n",
       " '3/3/2019',\n",
       " '3/29/2019',\n",
       " '1/10/2019',\n",
       " '1/25/2019',\n",
       " '1/19/2019',\n",
       " '1/2/2019',\n",
       " '3/12/2019',\n",
       " '2/25/2019',\n",
       " '3/18/2019',\n",
       " '2/23/2019',\n",
       " '3/26/2019',\n",
       " '3/30/2019',\n",
       " '2/17/2019',\n",
       " '3/21/2019',\n",
       " '3/5/2019',\n",
       " '1/31/2019',\n",
       " '2/5/2019',\n",
       " '2/1/2019',\n",
       " '3/7/2019',\n",
       " '2/10/2019',\n",
       " '2/14/2019',\n",
       " '2/9/2019',\n",
       " '1/10/2019',\n",
       " '3/11/2019',\n",
       " '2/18/2019',\n",
       " '2/26/2019',\n",
       " '1/18/2019',\n",
       " '2/15/2019',\n",
       " '3/8/2019',\n",
       " '1/17/2019',\n",
       " '3/12/2019',\n",
       " '3/9/2019',\n",
       " '3/12/2019',\n",
       " '1/25/2019',\n",
       " '3/25/2019',\n",
       " '2/7/2019',\n",
       " '2/17/2019',\n",
       " '2/3/2019',\n",
       " '3/14/2019',\n",
       " '3/24/2019',\n",
       " '3/21/2019',\n",
       " '3/19/2019',\n",
       " '2/24/2019',\n",
       " '3/28/2019',\n",
       " '2/5/2019',\n",
       " '2/10/2019',\n",
       " '3/5/2019',\n",
       " '2/15/2019',\n",
       " '1/30/2019',\n",
       " '2/14/2019',\n",
       " '2/27/2019',\n",
       " '2/4/2019',\n",
       " '1/20/2019',\n",
       " '3/28/2019',\n",
       " '2/27/2019',\n",
       " '2/15/2019',\n",
       " '1/26/2019',\n",
       " '3/14/2019',\n",
       " '3/2/2019',\n",
       " '3/4/2019',\n",
       " '1/7/2019',\n",
       " '3/8/2019',\n",
       " '1/9/2019',\n",
       " '3/1/2019',\n",
       " '3/16/2019',\n",
       " '2/17/2019',\n",
       " '2/27/2019',\n",
       " '3/7/2019',\n",
       " '1/21/2019',\n",
       " '2/19/2019',\n",
       " '1/6/2019',\n",
       " '3/14/2019',\n",
       " '3/24/2019',\n",
       " '1/27/2019',\n",
       " '3/6/2019',\n",
       " '2/2/2019',\n",
       " '1/25/2019',\n",
       " '3/14/2019',\n",
       " '1/29/2019',\n",
       " '1/3/2019',\n",
       " '1/14/2019',\n",
       " '1/5/2019',\n",
       " '2/22/2019',\n",
       " '2/6/2019',\n",
       " '1/30/2019',\n",
       " '1/11/2019',\n",
       " '3/19/2019',\n",
       " '1/14/2019',\n",
       " '3/1/2019',\n",
       " '1/6/2019',\n",
       " '1/31/2019',\n",
       " '3/11/2019',\n",
       " '2/20/2019',\n",
       " '1/27/2019',\n",
       " '3/10/2019',\n",
       " '2/15/2019',\n",
       " '1/26/2019',\n",
       " '2/13/2019',\n",
       " '3/9/2019',\n",
       " '3/6/2019',\n",
       " '1/24/2019',\n",
       " '3/13/2019',\n",
       " '3/15/2019',\n",
       " '3/5/2019',\n",
       " '3/4/2019',\n",
       " '3/25/2019',\n",
       " '3/12/2019',\n",
       " '2/4/2019',\n",
       " '2/22/2019',\n",
       " '2/16/2019',\n",
       " '1/19/2019',\n",
       " '1/11/2019',\n",
       " '1/4/2019',\n",
       " '3/4/2019',\n",
       " '1/28/2019',\n",
       " '1/2/2019',\n",
       " '1/25/2019',\n",
       " '1/4/2019',\n",
       " '3/10/2019',\n",
       " '3/22/2019',\n",
       " '1/25/2019',\n",
       " '1/8/2019',\n",
       " '1/22/2019',\n",
       " '1/12/2019',\n",
       " '2/4/2019',\n",
       " '3/28/2019',\n",
       " '1/23/2019',\n",
       " '2/8/2019',\n",
       " '3/19/2019',\n",
       " '3/9/2019',\n",
       " '1/2/2019',\n",
       " '1/21/2019',\n",
       " '3/20/2019',\n",
       " '2/27/2019',\n",
       " '3/8/2019',\n",
       " '1/31/2019',\n",
       " '3/8/2019',\n",
       " '1/13/2019',\n",
       " '3/9/2019',\n",
       " '2/22/2019',\n",
       " '3/19/2019',\n",
       " '1/20/2019',\n",
       " '3/8/2019',\n",
       " '3/8/2019',\n",
       " '2/7/2019',\n",
       " '1/15/2019',\n",
       " '3/22/2019',\n",
       " '1/15/2019',\n",
       " '1/8/2019',\n",
       " '1/15/2019',\n",
       " '1/28/2019',\n",
       " '2/14/2019',\n",
       " '3/10/2019',\n",
       " '1/12/2019',\n",
       " '3/26/2019',\n",
       " '1/1/2019',\n",
       " '1/2/2019',\n",
       " '3/16/2019',\n",
       " '3/3/2019',\n",
       " '1/31/2019',\n",
       " '2/13/2019',\n",
       " '2/15/2019',\n",
       " '2/7/2019',\n",
       " '1/27/2019',\n",
       " '2/23/2019',\n",
       " '2/3/2019',\n",
       " '3/3/2019',\n",
       " '2/3/2019',\n",
       " '3/17/2019',\n",
       " '3/28/2019',\n",
       " '3/2/2019',\n",
       " '2/8/2019',\n",
       " '3/22/2019',\n",
       " '2/9/2019',\n",
       " '2/15/2019',\n",
       " '1/23/2019',\n",
       " '1/25/2019',\n",
       " '2/2/2019',\n",
       " '3/30/2019',\n",
       " '3/30/2019',\n",
       " '2/25/2019',\n",
       " '3/18/2019',\n",
       " '3/7/2019',\n",
       " '3/16/2019',\n",
       " '1/29/2019',\n",
       " '2/2/2019',\n",
       " '2/15/2019',\n",
       " '1/8/2019',\n",
       " '2/12/2019',\n",
       " '1/1/2019',\n",
       " '3/21/2019',\n",
       " '2/28/2019',\n",
       " '3/23/2019',\n",
       " '1/30/2019',\n",
       " '2/4/2019',\n",
       " '3/13/2019',\n",
       " '3/15/2019',\n",
       " '3/5/2019',\n",
       " '3/5/2019',\n",
       " '2/26/2019',\n",
       " '3/20/2019',\n",
       " '1/1/2019',\n",
       " '1/27/2019',\n",
       " '1/21/2019',\n",
       " '2/2/2019',\n",
       " '2/3/2019',\n",
       " '1/5/2019',\n",
       " '1/27/2019',\n",
       " '3/25/2019',\n",
       " '2/25/2019',\n",
       " '1/28/2019',\n",
       " '1/8/2019',\n",
       " '1/29/2019',\n",
       " '3/29/2019',\n",
       " '2/9/2019',\n",
       " '1/16/2019',\n",
       " '1/5/2019',\n",
       " '1/27/2019',\n",
       " '3/14/2019',\n",
       " '2/23/2019',\n",
       " '3/18/2019',\n",
       " '3/29/2019',\n",
       " '1/22/2019',\n",
       " '3/1/2019',\n",
       " '1/17/2019',\n",
       " '3/26/2019',\n",
       " '3/20/2019',\n",
       " '2/6/2019',\n",
       " '1/1/2019',\n",
       " '1/27/2019',\n",
       " '2/25/2019',\n",
       " '1/16/2019',\n",
       " '1/13/2019',\n",
       " '2/7/2019',\n",
       " '2/17/2019',\n",
       " '2/12/2019',\n",
       " '1/24/2019',\n",
       " '2/6/2019',\n",
       " '3/26/2019',\n",
       " '3/11/2019',\n",
       " '2/7/2019',\n",
       " '1/5/2019',\n",
       " '3/7/2019',\n",
       " '2/25/2019',\n",
       " '2/1/2019',\n",
       " '1/22/2019',\n",
       " '1/3/2019',\n",
       " '2/13/2019',\n",
       " '1/28/2019',\n",
       " '1/5/2019',\n",
       " '3/19/2019',\n",
       " '1/12/2019',\n",
       " '1/7/2019',\n",
       " '1/26/2019',\n",
       " '1/23/2019',\n",
       " '2/9/2019',\n",
       " '2/22/2019',\n",
       " '2/5/2019',\n",
       " '3/7/2019',\n",
       " '3/25/2019',\n",
       " '1/20/2019',\n",
       " '2/4/2019',\n",
       " '1/30/2019',\n",
       " '1/2/2019',\n",
       " '3/29/2019',\n",
       " '3/14/2019',\n",
       " '2/11/2019',\n",
       " '1/30/2019',\n",
       " '3/20/2019',\n",
       " '3/20/2019',\n",
       " '1/17/2019',\n",
       " '2/3/2019',\n",
       " '1/1/2019',\n",
       " '1/10/2019',\n",
       " '3/2/2019',\n",
       " '2/25/2019',\n",
       " '1/29/2019',\n",
       " '3/10/2019',\n",
       " '1/13/2019',\n",
       " '3/22/2019',\n",
       " '3/1/2019',\n",
       " '2/20/2019',\n",
       " '1/14/2019',\n",
       " '3/26/2019',\n",
       " '3/1/2019',\n",
       " '1/7/2019',\n",
       " '2/1/2019',\n",
       " '2/13/2019',\n",
       " '1/14/2019',\n",
       " '1/19/2019',\n",
       " '3/9/2019',\n",
       " '3/27/2019',\n",
       " '2/4/2019',\n",
       " '3/14/2019',\n",
       " '3/4/2019',\n",
       " '3/3/2019',\n",
       " '1/27/2019',\n",
       " '2/7/2019',\n",
       " '2/5/2019',\n",
       " '3/15/2019',\n",
       " '3/1/2019',\n",
       " '2/15/2019',\n",
       " '2/17/2019',\n",
       " '1/26/2019',\n",
       " '3/24/2019',\n",
       " '1/23/2019',\n",
       " '1/26/2019',\n",
       " '3/14/2019',\n",
       " '3/17/2019',\n",
       " '1/8/2019',\n",
       " '2/8/2019',\n",
       " '2/10/2019',\n",
       " '3/28/2019',\n",
       " '1/23/2019',\n",
       " '1/17/2019',\n",
       " '2/7/2019',\n",
       " '3/9/2019',\n",
       " '1/24/2019',\n",
       " '1/19/2019',\n",
       " '2/3/2019',\n",
       " '3/20/2019',\n",
       " '1/13/2019',\n",
       " '3/14/2019',\n",
       " '1/23/2019',\n",
       " '2/7/2019',\n",
       " '3/28/2019',\n",
       " '3/20/2019',\n",
       " '1/17/2019',\n",
       " '1/12/2019',\n",
       " '2/16/2019',\n",
       " '1/26/2019',\n",
       " '3/9/2019',\n",
       " '3/14/2019',\n",
       " '1/25/2019',\n",
       " '1/26/2019',\n",
       " '1/19/2019',\n",
       " '3/5/2019',\n",
       " '1/15/2019',\n",
       " '3/18/2019',\n",
       " '3/20/2019',\n",
       " '1/15/2019',\n",
       " '3/3/2019',\n",
       " '3/19/2019',\n",
       " '3/8/2019',\n",
       " '2/27/2019',\n",
       " '2/23/2019',\n",
       " '3/19/2019',\n",
       " '3/27/2019',\n",
       " '3/30/2019',\n",
       " '2/16/2019',\n",
       " '1/18/2019',\n",
       " '3/30/2019',\n",
       " '3/20/2019',\n",
       " '1/16/2019',\n",
       " '2/24/2019',\n",
       " '1/15/2019',\n",
       " '1/22/2019',\n",
       " '2/3/2019',\n",
       " '3/6/2019',\n",
       " '2/16/2019',\n",
       " '3/14/2019',\n",
       " '2/27/2019',\n",
       " '1/18/2019',\n",
       " '1/29/2019',\n",
       " '2/26/2019',\n",
       " '2/3/2019',\n",
       " '1/16/2019',\n",
       " '3/24/2019',\n",
       " '2/12/2019',\n",
       " '2/21/2019',\n",
       " '2/4/2019',\n",
       " '2/20/2019',\n",
       " '2/23/2019',\n",
       " '2/16/2019',\n",
       " '1/17/2019',\n",
       " '1/14/2019',\n",
       " '3/30/2019',\n",
       " '3/2/2019',\n",
       " '2/15/2019',\n",
       " '3/1/2019',\n",
       " '2/24/2019',\n",
       " '2/19/2019',\n",
       " '2/23/2019',\n",
       " '2/7/2019',\n",
       " '1/11/2019',\n",
       " '2/12/2019',\n",
       " '1/14/2019',\n",
       " '1/9/2019',\n",
       " '2/27/2019',\n",
       " '1/24/2019',\n",
       " '1/8/2019',\n",
       " '1/8/2019',\n",
       " '1/16/2019',\n",
       " '3/13/2019',\n",
       " '2/15/2019',\n",
       " '1/25/2019',\n",
       " '3/12/2019',\n",
       " '3/4/2019',\n",
       " '2/10/2019',\n",
       " '1/16/2019',\n",
       " '1/29/2019',\n",
       " '1/1/2019',\n",
       " '1/6/2019',\n",
       " '2/19/2019',\n",
       " '1/12/2019',\n",
       " '2/7/2019',\n",
       " '3/27/2019',\n",
       " '2/27/2019',\n",
       " '1/6/2019',\n",
       " '3/2/2019',\n",
       " '3/29/2019',\n",
       " '1/31/2019',\n",
       " '1/21/2019',\n",
       " '1/20/2019',\n",
       " '1/17/2019',\n",
       " '2/28/2019',\n",
       " '3/19/2019',\n",
       " '2/19/2019',\n",
       " '2/4/2019',\n",
       " '1/31/2019',\n",
       " '2/6/2019',\n",
       " '3/28/2019',\n",
       " '1/19/2019',\n",
       " '2/17/2019',\n",
       " '1/18/2019',\n",
       " '2/2/2019',\n",
       " '1/18/2019',\n",
       " '3/18/2019',\n",
       " '1/11/2019',\n",
       " '2/4/2019',\n",
       " '2/6/2019',\n",
       " '1/8/2019',\n",
       " '3/5/2019',\n",
       " '3/16/2019',\n",
       " '3/9/2019',\n",
       " '3/1/2019',\n",
       " '2/28/2019',\n",
       " '2/8/2019',\n",
       " '1/24/2019',\n",
       " '3/1/2019',\n",
       " '3/10/2019',\n",
       " '3/23/2019',\n",
       " '1/29/2019',\n",
       " '1/12/2019',\n",
       " '3/20/2019',\n",
       " '3/23/2019',\n",
       " '1/14/2019',\n",
       " '2/12/2019',\n",
       " '2/20/2019',\n",
       " '1/2/2019',\n",
       " '2/2/2019',\n",
       " '1/8/2019',\n",
       " '1/30/2019',\n",
       " '3/26/2019',\n",
       " '1/15/2019',\n",
       " '3/14/2019',\n",
       " '2/3/2019',\n",
       " '2/22/2019',\n",
       " '1/24/2019',\n",
       " '1/25/2019',\n",
       " '3/9/2019',\n",
       " '2/17/2019',\n",
       " '1/11/2019',\n",
       " '2/27/2019',\n",
       " '3/25/2019',\n",
       " '2/11/2019',\n",
       " '1/31/2019',\n",
       " '1/20/2019',\n",
       " '3/26/2019',\n",
       " '1/20/2019',\n",
       " '3/5/2019',\n",
       " '1/5/2019',\n",
       " '2/13/2019',\n",
       " '3/16/2019',\n",
       " '1/15/2019',\n",
       " '2/26/2019',\n",
       " '2/27/2019',\n",
       " '2/17/2019',\n",
       " '2/6/2019',\n",
       " '1/17/2019',\n",
       " '1/22/2019',\n",
       " '3/5/2019',\n",
       " '1/3/2019',\n",
       " '3/20/2019',\n",
       " '1/31/2019',\n",
       " '2/19/2019',\n",
       " '2/11/2019',\n",
       " '2/5/2019',\n",
       " '3/3/2019',\n",
       " '2/24/2019',\n",
       " '2/4/2019',\n",
       " '2/19/2019',\n",
       " '1/23/2019',\n",
       " '1/14/2019',\n",
       " '1/17/2019',\n",
       " '3/3/2019',\n",
       " '2/15/2019',\n",
       " '1/15/2019',\n",
       " '2/27/2019',\n",
       " '2/26/2019',\n",
       " '3/15/2019',\n",
       " '1/24/2019',\n",
       " '2/22/2019',\n",
       " '3/15/2019',\n",
       " '2/11/2019',\n",
       " '1/12/2019',\n",
       " '3/3/2019',\n",
       " '3/23/2019',\n",
       " '3/4/2019',\n",
       " '2/23/2019',\n",
       " '3/17/2019',\n",
       " '1/16/2019',\n",
       " '1/8/2019',\n",
       " '1/14/2019',\n",
       " '1/31/2019',\n",
       " '3/15/2019',\n",
       " '2/24/2019',\n",
       " '2/8/2019',\n",
       " '3/22/2019',\n",
       " '1/24/2019',\n",
       " '3/14/2019',\n",
       " '1/23/2019',\n",
       " '1/19/2019',\n",
       " '1/27/2019',\n",
       " '2/3/2019',\n",
       " '3/25/2019',\n",
       " '2/24/2019',\n",
       " '2/7/2019',\n",
       " '3/4/2019',\n",
       " '2/14/2019',\n",
       " '1/29/2019',\n",
       " '1/28/2019',\n",
       " '3/26/2019',\n",
       " '3/24/2019',\n",
       " '1/1/2019',\n",
       " '1/24/2019',\n",
       " '2/25/2019',\n",
       " '1/9/2019',\n",
       " '2/14/2019',\n",
       " '3/12/2019',\n",
       " '3/26/2019',\n",
       " '1/9/2019',\n",
       " '1/2/2019',\n",
       " '1/15/2019',\n",
       " '1/1/2019',\n",
       " '2/15/2019',\n",
       " '2/28/2019',\n",
       " '3/2/2019',\n",
       " '2/13/2019',\n",
       " '1/26/2019',\n",
       " '1/30/2019',\n",
       " '1/27/2019',\n",
       " '1/30/2019',\n",
       " '1/8/2019',\n",
       " '1/19/2019',\n",
       " '1/25/2019',\n",
       " '2/19/2019',\n",
       " '1/14/2019',\n",
       " '2/25/2019',\n",
       " '1/23/2019',\n",
       " '2/16/2019',\n",
       " '1/1/2019',\n",
       " '3/7/2019',\n",
       " '2/15/2019',\n",
       " '1/23/2019',\n",
       " '2/20/2019',\n",
       " '1/8/2019',\n",
       " '3/17/2019',\n",
       " '1/12/2019',\n",
       " '1/8/2019',\n",
       " '1/26/2019',\n",
       " '3/15/2019',\n",
       " '1/17/2019',\n",
       " '1/8/2019',\n",
       " '1/6/2019',\n",
       " '2/16/2019',\n",
       " '3/13/2019',\n",
       " '1/28/2019',\n",
       " '1/18/2019',\n",
       " '3/19/2019',\n",
       " '3/15/2019',\n",
       " '2/12/2019',\n",
       " '2/25/2019',\n",
       " '3/21/2019',\n",
       " '1/19/2019',\n",
       " '1/8/2019',\n",
       " '3/30/2019',\n",
       " '2/20/2019',\n",
       " '3/30/2019',\n",
       " '3/19/2019',\n",
       " '1/13/2019',\n",
       " '2/5/2019',\n",
       " '3/23/2019',\n",
       " '3/13/2019',\n",
       " '3/17/2019',\n",
       " '2/21/2019',\n",
       " '2/7/2019',\n",
       " '3/2/2019',\n",
       " '3/6/2019',\n",
       " '2/6/2019',\n",
       " '1/28/2019',\n",
       " '1/18/2019',\n",
       " '2/5/2019',\n",
       " '3/2/2019',\n",
       " '2/9/2019',\n",
       " '1/14/2019',\n",
       " '2/9/2019',\n",
       " '3/26/2019',\n",
       " '1/28/2019',\n",
       " '2/14/2019',\n",
       " '3/24/2019',\n",
       " '2/9/2019',\n",
       " '3/24/2019',\n",
       " '3/27/2019',\n",
       " '1/27/2019',\n",
       " '3/27/2019',\n",
       " '1/19/2019',\n",
       " '2/7/2019',\n",
       " '1/31/2019',\n",
       " '2/25/2019',\n",
       " '2/2/2019',\n",
       " '3/14/2019',\n",
       " '3/11/2019',\n",
       " '2/22/2019',\n",
       " '3/2/2019',\n",
       " '3/10/2019',\n",
       " '2/8/2019',\n",
       " '2/22/2019',\n",
       " '1/10/2019',\n",
       " '3/14/2019',\n",
       " '1/10/2019',\n",
       " '2/15/2019',\n",
       " '1/13/2019',\n",
       " '2/15/2019',\n",
       " '3/2/2019',\n",
       " '3/24/2019',\n",
       " '2/2/2019',\n",
       " '2/27/2019',\n",
       " '1/20/2019',\n",
       " '1/3/2019',\n",
       " '1/24/2019',\n",
       " '1/5/2019',\n",
       " '3/30/2019',\n",
       " '2/17/2019',\n",
       " '3/21/2019',\n",
       " '3/2/2019',\n",
       " '3/27/2019',\n",
       " '1/19/2019',\n",
       " '2/19/2019',\n",
       " '3/28/2019',\n",
       " '1/5/2019',\n",
       " '3/26/2019',\n",
       " '2/3/2019',\n",
       " '2/6/2019',\n",
       " '2/24/2019',\n",
       " '2/21/2019',\n",
       " '1/9/2019',\n",
       " '2/25/2019',\n",
       " '1/13/2019',\n",
       " '2/9/2019',\n",
       " '1/6/2019',\n",
       " '1/10/2019',\n",
       " '2/7/2019',\n",
       " '1/9/2019',\n",
       " '2/19/2019',\n",
       " '3/18/2019',\n",
       " '2/5/2019',\n",
       " '3/19/2019',\n",
       " '3/30/2019',\n",
       " '1/26/2019',\n",
       " '3/2/2019',\n",
       " '3/4/2019',\n",
       " '1/13/2019',\n",
       " '3/25/2019',\n",
       " '3/11/2019',\n",
       " '1/1/2019',\n",
       " '2/10/2019',\n",
       " '1/26/2019',\n",
       " '2/11/2019',\n",
       " '2/7/2019',\n",
       " '3/6/2019',\n",
       " '3/4/2019',\n",
       " '2/26/2019',\n",
       " '3/10/2019',\n",
       " '2/4/2019',\n",
       " '1/19/2019',\n",
       " '1/23/2019',\n",
       " '3/14/2019',\n",
       " '1/23/2019',\n",
       " '1/9/2019',\n",
       " '2/7/2019',\n",
       " '2/18/2019',\n",
       " '1/3/2019',\n",
       " '3/29/2019',\n",
       " '1/28/2019',\n",
       " '3/22/2019',\n",
       " '1/24/2019',\n",
       " '3/10/2019',\n",
       " '2/22/2019',\n",
       " '2/18/2019',\n",
       " '1/29/2019',\n",
       " '3/2/2019',\n",
       " '2/9/2019',\n",
       " '2/22/2019',\n",
       " '2/18/2019']"
      ]
     },
     "execution_count": 53,
     "metadata": {},
     "output_type": "execute_result"
    }
   ],
   "source": [
    "dt_list"
   ]
  },
  {
   "cell_type": "code",
   "execution_count": 54,
   "metadata": {},
   "outputs": [],
   "source": [
    "dt_list = ['0' + i for i in dt_list]"
   ]
  },
  {
   "cell_type": "code",
   "execution_count": 55,
   "metadata": {},
   "outputs": [
    {
     "data": {
      "text/plain": [
       "['01/5/2019',\n",
       " '03/8/2019',\n",
       " '03/3/2019',\n",
       " '01/27/2019',\n",
       " '02/8/2019',\n",
       " '03/25/2019',\n",
       " '02/25/2019',\n",
       " '02/24/2019',\n",
       " '01/10/2019',\n",
       " '02/20/2019',\n",
       " '02/6/2019',\n",
       " '03/9/2019',\n",
       " '02/12/2019',\n",
       " '02/7/2019',\n",
       " '03/29/2019',\n",
       " '01/15/2019',\n",
       " '03/11/2019',\n",
       " '01/1/2019',\n",
       " '01/21/2019',\n",
       " '03/11/2019',\n",
       " '02/25/2019',\n",
       " '03/5/2019',\n",
       " '03/15/2019',\n",
       " '02/17/2019',\n",
       " '03/2/2019',\n",
       " '03/22/2019',\n",
       " '02/8/2019',\n",
       " '03/10/2019',\n",
       " '01/25/2019',\n",
       " '03/15/2019',\n",
       " '02/25/2019',\n",
       " '01/28/2019',\n",
       " '01/10/2019',\n",
       " '03/15/2019',\n",
       " '02/6/2019',\n",
       " '01/7/2019',\n",
       " '03/10/2019',\n",
       " '01/15/2019',\n",
       " '03/23/2019',\n",
       " '03/3/2019',\n",
       " '01/17/2019',\n",
       " '02/2/2019',\n",
       " '02/8/2019',\n",
       " '03/4/2019',\n",
       " '03/16/2019',\n",
       " '03/9/2019',\n",
       " '02/27/2019',\n",
       " '02/6/2019',\n",
       " '02/10/2019',\n",
       " '03/19/2019',\n",
       " '02/3/2019',\n",
       " '02/10/2019',\n",
       " '03/22/2019',\n",
       " '01/25/2019',\n",
       " '03/7/2019',\n",
       " '02/28/2019',\n",
       " '03/27/2019',\n",
       " '02/7/2019',\n",
       " '01/20/2019',\n",
       " '03/12/2019',\n",
       " '02/15/2019',\n",
       " '02/24/2019',\n",
       " '02/3/2019',\n",
       " '03/6/2019',\n",
       " '02/14/2019',\n",
       " '03/13/2019',\n",
       " '02/10/2019',\n",
       " '01/7/2019',\n",
       " '01/24/2019',\n",
       " '02/2/2019',\n",
       " '01/6/2019',\n",
       " '02/11/2019',\n",
       " '03/5/2019',\n",
       " '03/9/2019',\n",
       " '01/22/2019',\n",
       " '01/13/2019',\n",
       " '01/9/2019',\n",
       " '01/12/2019',\n",
       " '03/5/2019',\n",
       " '01/22/2019',\n",
       " '01/21/2019',\n",
       " '01/26/2019',\n",
       " '01/23/2019',\n",
       " '02/23/2019',\n",
       " '03/9/2019',\n",
       " '03/5/2019',\n",
       " '03/25/2019',\n",
       " '03/27/2019',\n",
       " '01/2/2019',\n",
       " '02/27/2019',\n",
       " '01/23/2019',\n",
       " '01/26/2019',\n",
       " '01/10/2019',\n",
       " '03/12/2019',\n",
       " '02/6/2019',\n",
       " '03/8/2019',\n",
       " '03/29/2019',\n",
       " '02/9/2019',\n",
       " '03/23/2019',\n",
       " '03/5/2019',\n",
       " '03/26/2019',\n",
       " '03/1/2019',\n",
       " '02/1/2019',\n",
       " '03/28/2019',\n",
       " '03/19/2019',\n",
       " '01/12/2019',\n",
       " '01/5/2019',\n",
       " '03/22/2019',\n",
       " '03/24/2019',\n",
       " '03/3/2019',\n",
       " '02/5/2019',\n",
       " '02/5/2019',\n",
       " '02/15/2019',\n",
       " '01/19/2019',\n",
       " '02/1/2019',\n",
       " '03/2/2019',\n",
       " '03/5/2019',\n",
       " '01/16/2019',\n",
       " '02/2/2019',\n",
       " '01/20/2019',\n",
       " '02/14/2019',\n",
       " '01/12/2019',\n",
       " '03/9/2019',\n",
       " '03/13/2019',\n",
       " '03/9/2019',\n",
       " '03/10/2019',\n",
       " '01/27/2019',\n",
       " '01/8/2019',\n",
       " '01/8/2019',\n",
       " '02/8/2019',\n",
       " '01/25/2019',\n",
       " '03/6/2019',\n",
       " '02/10/2019',\n",
       " '02/17/2019',\n",
       " '03/8/2019',\n",
       " '02/18/2019',\n",
       " '01/18/2019',\n",
       " '02/18/2019',\n",
       " '02/16/2019',\n",
       " '03/16/2019',\n",
       " '01/23/2019',\n",
       " '01/25/2019',\n",
       " '02/5/2019',\n",
       " '02/22/2019',\n",
       " '01/21/2019',\n",
       " '03/8/2019',\n",
       " '02/10/2019',\n",
       " '03/19/2019',\n",
       " '03/6/2019',\n",
       " '03/27/2019',\n",
       " '03/23/2019',\n",
       " '03/11/2019',\n",
       " '01/29/2019',\n",
       " '02/7/2019',\n",
       " '01/28/2019',\n",
       " '02/20/2019',\n",
       " '01/4/2019',\n",
       " '03/7/2019',\n",
       " '03/30/2019',\n",
       " '03/27/2019',\n",
       " '01/19/2019',\n",
       " '02/25/2019',\n",
       " '03/13/2019',\n",
       " '01/30/2019',\n",
       " '02/20/2019',\n",
       " '02/25/2019',\n",
       " '01/16/2019',\n",
       " '02/8/2019',\n",
       " '01/19/2019',\n",
       " '02/1/2019',\n",
       " '01/3/2019',\n",
       " '01/26/2019',\n",
       " '03/3/2019',\n",
       " '01/19/2019',\n",
       " '01/18/2019',\n",
       " '03/21/2019',\n",
       " '03/3/2019',\n",
       " '02/13/2019',\n",
       " '03/23/2019',\n",
       " '01/28/2019',\n",
       " '02/9/2019',\n",
       " '01/23/2019',\n",
       " '03/23/2019',\n",
       " '01/25/2019',\n",
       " '03/4/2019',\n",
       " '03/5/2019',\n",
       " '03/3/2019',\n",
       " '02/8/2019',\n",
       " '02/10/2019',\n",
       " '01/28/2019',\n",
       " '02/11/2019',\n",
       " '01/15/2019',\n",
       " '03/16/2019',\n",
       " '01/26/2019',\n",
       " '03/19/2019',\n",
       " '01/13/2019',\n",
       " '03/26/2019',\n",
       " '03/23/2019',\n",
       " '03/12/2019',\n",
       " '02/17/2019',\n",
       " '01/29/2019',\n",
       " '03/15/2019',\n",
       " '01/14/2019',\n",
       " '02/6/2019',\n",
       " '02/15/2019',\n",
       " '01/3/2019',\n",
       " '01/4/2019',\n",
       " '03/18/2019',\n",
       " '03/28/2019',\n",
       " '03/2/2019',\n",
       " '01/25/2019',\n",
       " '01/16/2019',\n",
       " '03/20/2019',\n",
       " '01/4/2019',\n",
       " '03/11/2019',\n",
       " '03/22/2019',\n",
       " '03/24/2019',\n",
       " '02/21/2019',\n",
       " '02/12/2019',\n",
       " '03/10/2019',\n",
       " '01/31/2019',\n",
       " '03/6/2019',\n",
       " '02/17/2019',\n",
       " '02/21/2019',\n",
       " '03/20/2019',\n",
       " '01/11/2019',\n",
       " '01/26/2019',\n",
       " '01/31/2019',\n",
       " '02/26/2019',\n",
       " '03/11/2019',\n",
       " '01/26/2019',\n",
       " '03/12/2019',\n",
       " '02/11/2019',\n",
       " '02/21/2019',\n",
       " '03/9/2019',\n",
       " '01/20/2019',\n",
       " '01/28/2019',\n",
       " '03/5/2019',\n",
       " '03/2/2019',\n",
       " '01/11/2019',\n",
       " '01/11/2019',\n",
       " '03/11/2019',\n",
       " '02/28/2019',\n",
       " '01/5/2019',\n",
       " '02/2/2019',\n",
       " '01/1/2019',\n",
       " '02/9/2019',\n",
       " '01/23/2019',\n",
       " '01/7/2019',\n",
       " '01/14/2019',\n",
       " '02/2/2019',\n",
       " '03/17/2019',\n",
       " '03/2/2019',\n",
       " '03/16/2019',\n",
       " '01/6/2019',\n",
       " '01/29/2019',\n",
       " '01/31/2019',\n",
       " '02/5/2019',\n",
       " '02/13/2019',\n",
       " '02/7/2019',\n",
       " '03/19/2019',\n",
       " '03/7/2019',\n",
       " '03/13/2019',\n",
       " '02/9/2019',\n",
       " '02/26/2019',\n",
       " '03/12/2019',\n",
       " '03/14/2019',\n",
       " '01/8/2019',\n",
       " '01/5/2019',\n",
       " '01/4/2019',\n",
       " '03/6/2019',\n",
       " '01/3/2019',\n",
       " '01/7/2019',\n",
       " '01/27/2019',\n",
       " '02/26/2019',\n",
       " '01/7/2019',\n",
       " '01/7/2019',\n",
       " '02/2/2019',\n",
       " '03/20/2019',\n",
       " '03/20/2019',\n",
       " '02/15/2019',\n",
       " '03/6/2019',\n",
       " '01/6/2019',\n",
       " '03/4/2019',\n",
       " '03/12/2019',\n",
       " '02/20/2019',\n",
       " '03/24/2019',\n",
       " '01/31/2019',\n",
       " '01/25/2019',\n",
       " '02/3/2019',\n",
       " '01/24/2019',\n",
       " '03/14/2019',\n",
       " '02/18/2019',\n",
       " '01/21/2019',\n",
       " '03/13/2019',\n",
       " '03/3/2019',\n",
       " '03/29/2019',\n",
       " '01/10/2019',\n",
       " '01/25/2019',\n",
       " '01/19/2019',\n",
       " '01/2/2019',\n",
       " '03/12/2019',\n",
       " '02/25/2019',\n",
       " '03/18/2019',\n",
       " '02/23/2019',\n",
       " '03/26/2019',\n",
       " '03/30/2019',\n",
       " '02/17/2019',\n",
       " '03/21/2019',\n",
       " '03/5/2019',\n",
       " '01/31/2019',\n",
       " '02/5/2019',\n",
       " '02/1/2019',\n",
       " '03/7/2019',\n",
       " '02/10/2019',\n",
       " '02/14/2019',\n",
       " '02/9/2019',\n",
       " '01/10/2019',\n",
       " '03/11/2019',\n",
       " '02/18/2019',\n",
       " '02/26/2019',\n",
       " '01/18/2019',\n",
       " '02/15/2019',\n",
       " '03/8/2019',\n",
       " '01/17/2019',\n",
       " '03/12/2019',\n",
       " '03/9/2019',\n",
       " '03/12/2019',\n",
       " '01/25/2019',\n",
       " '03/25/2019',\n",
       " '02/7/2019',\n",
       " '02/17/2019',\n",
       " '02/3/2019',\n",
       " '03/14/2019',\n",
       " '03/24/2019',\n",
       " '03/21/2019',\n",
       " '03/19/2019',\n",
       " '02/24/2019',\n",
       " '03/28/2019',\n",
       " '02/5/2019',\n",
       " '02/10/2019',\n",
       " '03/5/2019',\n",
       " '02/15/2019',\n",
       " '01/30/2019',\n",
       " '02/14/2019',\n",
       " '02/27/2019',\n",
       " '02/4/2019',\n",
       " '01/20/2019',\n",
       " '03/28/2019',\n",
       " '02/27/2019',\n",
       " '02/15/2019',\n",
       " '01/26/2019',\n",
       " '03/14/2019',\n",
       " '03/2/2019',\n",
       " '03/4/2019',\n",
       " '01/7/2019',\n",
       " '03/8/2019',\n",
       " '01/9/2019',\n",
       " '03/1/2019',\n",
       " '03/16/2019',\n",
       " '02/17/2019',\n",
       " '02/27/2019',\n",
       " '03/7/2019',\n",
       " '01/21/2019',\n",
       " '02/19/2019',\n",
       " '01/6/2019',\n",
       " '03/14/2019',\n",
       " '03/24/2019',\n",
       " '01/27/2019',\n",
       " '03/6/2019',\n",
       " '02/2/2019',\n",
       " '01/25/2019',\n",
       " '03/14/2019',\n",
       " '01/29/2019',\n",
       " '01/3/2019',\n",
       " '01/14/2019',\n",
       " '01/5/2019',\n",
       " '02/22/2019',\n",
       " '02/6/2019',\n",
       " '01/30/2019',\n",
       " '01/11/2019',\n",
       " '03/19/2019',\n",
       " '01/14/2019',\n",
       " '03/1/2019',\n",
       " '01/6/2019',\n",
       " '01/31/2019',\n",
       " '03/11/2019',\n",
       " '02/20/2019',\n",
       " '01/27/2019',\n",
       " '03/10/2019',\n",
       " '02/15/2019',\n",
       " '01/26/2019',\n",
       " '02/13/2019',\n",
       " '03/9/2019',\n",
       " '03/6/2019',\n",
       " '01/24/2019',\n",
       " '03/13/2019',\n",
       " '03/15/2019',\n",
       " '03/5/2019',\n",
       " '03/4/2019',\n",
       " '03/25/2019',\n",
       " '03/12/2019',\n",
       " '02/4/2019',\n",
       " '02/22/2019',\n",
       " '02/16/2019',\n",
       " '01/19/2019',\n",
       " '01/11/2019',\n",
       " '01/4/2019',\n",
       " '03/4/2019',\n",
       " '01/28/2019',\n",
       " '01/2/2019',\n",
       " '01/25/2019',\n",
       " '01/4/2019',\n",
       " '03/10/2019',\n",
       " '03/22/2019',\n",
       " '01/25/2019',\n",
       " '01/8/2019',\n",
       " '01/22/2019',\n",
       " '01/12/2019',\n",
       " '02/4/2019',\n",
       " '03/28/2019',\n",
       " '01/23/2019',\n",
       " '02/8/2019',\n",
       " '03/19/2019',\n",
       " '03/9/2019',\n",
       " '01/2/2019',\n",
       " '01/21/2019',\n",
       " '03/20/2019',\n",
       " '02/27/2019',\n",
       " '03/8/2019',\n",
       " '01/31/2019',\n",
       " '03/8/2019',\n",
       " '01/13/2019',\n",
       " '03/9/2019',\n",
       " '02/22/2019',\n",
       " '03/19/2019',\n",
       " '01/20/2019',\n",
       " '03/8/2019',\n",
       " '03/8/2019',\n",
       " '02/7/2019',\n",
       " '01/15/2019',\n",
       " '03/22/2019',\n",
       " '01/15/2019',\n",
       " '01/8/2019',\n",
       " '01/15/2019',\n",
       " '01/28/2019',\n",
       " '02/14/2019',\n",
       " '03/10/2019',\n",
       " '01/12/2019',\n",
       " '03/26/2019',\n",
       " '01/1/2019',\n",
       " '01/2/2019',\n",
       " '03/16/2019',\n",
       " '03/3/2019',\n",
       " '01/31/2019',\n",
       " '02/13/2019',\n",
       " '02/15/2019',\n",
       " '02/7/2019',\n",
       " '01/27/2019',\n",
       " '02/23/2019',\n",
       " '02/3/2019',\n",
       " '03/3/2019',\n",
       " '02/3/2019',\n",
       " '03/17/2019',\n",
       " '03/28/2019',\n",
       " '03/2/2019',\n",
       " '02/8/2019',\n",
       " '03/22/2019',\n",
       " '02/9/2019',\n",
       " '02/15/2019',\n",
       " '01/23/2019',\n",
       " '01/25/2019',\n",
       " '02/2/2019',\n",
       " '03/30/2019',\n",
       " '03/30/2019',\n",
       " '02/25/2019',\n",
       " '03/18/2019',\n",
       " '03/7/2019',\n",
       " '03/16/2019',\n",
       " '01/29/2019',\n",
       " '02/2/2019',\n",
       " '02/15/2019',\n",
       " '01/8/2019',\n",
       " '02/12/2019',\n",
       " '01/1/2019',\n",
       " '03/21/2019',\n",
       " '02/28/2019',\n",
       " '03/23/2019',\n",
       " '01/30/2019',\n",
       " '02/4/2019',\n",
       " '03/13/2019',\n",
       " '03/15/2019',\n",
       " '03/5/2019',\n",
       " '03/5/2019',\n",
       " '02/26/2019',\n",
       " '03/20/2019',\n",
       " '01/1/2019',\n",
       " '01/27/2019',\n",
       " '01/21/2019',\n",
       " '02/2/2019',\n",
       " '02/3/2019',\n",
       " '01/5/2019',\n",
       " '01/27/2019',\n",
       " '03/25/2019',\n",
       " '02/25/2019',\n",
       " '01/28/2019',\n",
       " '01/8/2019',\n",
       " '01/29/2019',\n",
       " '03/29/2019',\n",
       " '02/9/2019',\n",
       " '01/16/2019',\n",
       " '01/5/2019',\n",
       " '01/27/2019',\n",
       " '03/14/2019',\n",
       " '02/23/2019',\n",
       " '03/18/2019',\n",
       " '03/29/2019',\n",
       " '01/22/2019',\n",
       " '03/1/2019',\n",
       " '01/17/2019',\n",
       " '03/26/2019',\n",
       " '03/20/2019',\n",
       " '02/6/2019',\n",
       " '01/1/2019',\n",
       " '01/27/2019',\n",
       " '02/25/2019',\n",
       " '01/16/2019',\n",
       " '01/13/2019',\n",
       " '02/7/2019',\n",
       " '02/17/2019',\n",
       " '02/12/2019',\n",
       " '01/24/2019',\n",
       " '02/6/2019',\n",
       " '03/26/2019',\n",
       " '03/11/2019',\n",
       " '02/7/2019',\n",
       " '01/5/2019',\n",
       " '03/7/2019',\n",
       " '02/25/2019',\n",
       " '02/1/2019',\n",
       " '01/22/2019',\n",
       " '01/3/2019',\n",
       " '02/13/2019',\n",
       " '01/28/2019',\n",
       " '01/5/2019',\n",
       " '03/19/2019',\n",
       " '01/12/2019',\n",
       " '01/7/2019',\n",
       " '01/26/2019',\n",
       " '01/23/2019',\n",
       " '02/9/2019',\n",
       " '02/22/2019',\n",
       " '02/5/2019',\n",
       " '03/7/2019',\n",
       " '03/25/2019',\n",
       " '01/20/2019',\n",
       " '02/4/2019',\n",
       " '01/30/2019',\n",
       " '01/2/2019',\n",
       " '03/29/2019',\n",
       " '03/14/2019',\n",
       " '02/11/2019',\n",
       " '01/30/2019',\n",
       " '03/20/2019',\n",
       " '03/20/2019',\n",
       " '01/17/2019',\n",
       " '02/3/2019',\n",
       " '01/1/2019',\n",
       " '01/10/2019',\n",
       " '03/2/2019',\n",
       " '02/25/2019',\n",
       " '01/29/2019',\n",
       " '03/10/2019',\n",
       " '01/13/2019',\n",
       " '03/22/2019',\n",
       " '03/1/2019',\n",
       " '02/20/2019',\n",
       " '01/14/2019',\n",
       " '03/26/2019',\n",
       " '03/1/2019',\n",
       " '01/7/2019',\n",
       " '02/1/2019',\n",
       " '02/13/2019',\n",
       " '01/14/2019',\n",
       " '01/19/2019',\n",
       " '03/9/2019',\n",
       " '03/27/2019',\n",
       " '02/4/2019',\n",
       " '03/14/2019',\n",
       " '03/4/2019',\n",
       " '03/3/2019',\n",
       " '01/27/2019',\n",
       " '02/7/2019',\n",
       " '02/5/2019',\n",
       " '03/15/2019',\n",
       " '03/1/2019',\n",
       " '02/15/2019',\n",
       " '02/17/2019',\n",
       " '01/26/2019',\n",
       " '03/24/2019',\n",
       " '01/23/2019',\n",
       " '01/26/2019',\n",
       " '03/14/2019',\n",
       " '03/17/2019',\n",
       " '01/8/2019',\n",
       " '02/8/2019',\n",
       " '02/10/2019',\n",
       " '03/28/2019',\n",
       " '01/23/2019',\n",
       " '01/17/2019',\n",
       " '02/7/2019',\n",
       " '03/9/2019',\n",
       " '01/24/2019',\n",
       " '01/19/2019',\n",
       " '02/3/2019',\n",
       " '03/20/2019',\n",
       " '01/13/2019',\n",
       " '03/14/2019',\n",
       " '01/23/2019',\n",
       " '02/7/2019',\n",
       " '03/28/2019',\n",
       " '03/20/2019',\n",
       " '01/17/2019',\n",
       " '01/12/2019',\n",
       " '02/16/2019',\n",
       " '01/26/2019',\n",
       " '03/9/2019',\n",
       " '03/14/2019',\n",
       " '01/25/2019',\n",
       " '01/26/2019',\n",
       " '01/19/2019',\n",
       " '03/5/2019',\n",
       " '01/15/2019',\n",
       " '03/18/2019',\n",
       " '03/20/2019',\n",
       " '01/15/2019',\n",
       " '03/3/2019',\n",
       " '03/19/2019',\n",
       " '03/8/2019',\n",
       " '02/27/2019',\n",
       " '02/23/2019',\n",
       " '03/19/2019',\n",
       " '03/27/2019',\n",
       " '03/30/2019',\n",
       " '02/16/2019',\n",
       " '01/18/2019',\n",
       " '03/30/2019',\n",
       " '03/20/2019',\n",
       " '01/16/2019',\n",
       " '02/24/2019',\n",
       " '01/15/2019',\n",
       " '01/22/2019',\n",
       " '02/3/2019',\n",
       " '03/6/2019',\n",
       " '02/16/2019',\n",
       " '03/14/2019',\n",
       " '02/27/2019',\n",
       " '01/18/2019',\n",
       " '01/29/2019',\n",
       " '02/26/2019',\n",
       " '02/3/2019',\n",
       " '01/16/2019',\n",
       " '03/24/2019',\n",
       " '02/12/2019',\n",
       " '02/21/2019',\n",
       " '02/4/2019',\n",
       " '02/20/2019',\n",
       " '02/23/2019',\n",
       " '02/16/2019',\n",
       " '01/17/2019',\n",
       " '01/14/2019',\n",
       " '03/30/2019',\n",
       " '03/2/2019',\n",
       " '02/15/2019',\n",
       " '03/1/2019',\n",
       " '02/24/2019',\n",
       " '02/19/2019',\n",
       " '02/23/2019',\n",
       " '02/7/2019',\n",
       " '01/11/2019',\n",
       " '02/12/2019',\n",
       " '01/14/2019',\n",
       " '01/9/2019',\n",
       " '02/27/2019',\n",
       " '01/24/2019',\n",
       " '01/8/2019',\n",
       " '01/8/2019',\n",
       " '01/16/2019',\n",
       " '03/13/2019',\n",
       " '02/15/2019',\n",
       " '01/25/2019',\n",
       " '03/12/2019',\n",
       " '03/4/2019',\n",
       " '02/10/2019',\n",
       " '01/16/2019',\n",
       " '01/29/2019',\n",
       " '01/1/2019',\n",
       " '01/6/2019',\n",
       " '02/19/2019',\n",
       " '01/12/2019',\n",
       " '02/7/2019',\n",
       " '03/27/2019',\n",
       " '02/27/2019',\n",
       " '01/6/2019',\n",
       " '03/2/2019',\n",
       " '03/29/2019',\n",
       " '01/31/2019',\n",
       " '01/21/2019',\n",
       " '01/20/2019',\n",
       " '01/17/2019',\n",
       " '02/28/2019',\n",
       " '03/19/2019',\n",
       " '02/19/2019',\n",
       " '02/4/2019',\n",
       " '01/31/2019',\n",
       " '02/6/2019',\n",
       " '03/28/2019',\n",
       " '01/19/2019',\n",
       " '02/17/2019',\n",
       " '01/18/2019',\n",
       " '02/2/2019',\n",
       " '01/18/2019',\n",
       " '03/18/2019',\n",
       " '01/11/2019',\n",
       " '02/4/2019',\n",
       " '02/6/2019',\n",
       " '01/8/2019',\n",
       " '03/5/2019',\n",
       " '03/16/2019',\n",
       " '03/9/2019',\n",
       " '03/1/2019',\n",
       " '02/28/2019',\n",
       " '02/8/2019',\n",
       " '01/24/2019',\n",
       " '03/1/2019',\n",
       " '03/10/2019',\n",
       " '03/23/2019',\n",
       " '01/29/2019',\n",
       " '01/12/2019',\n",
       " '03/20/2019',\n",
       " '03/23/2019',\n",
       " '01/14/2019',\n",
       " '02/12/2019',\n",
       " '02/20/2019',\n",
       " '01/2/2019',\n",
       " '02/2/2019',\n",
       " '01/8/2019',\n",
       " '01/30/2019',\n",
       " '03/26/2019',\n",
       " '01/15/2019',\n",
       " '03/14/2019',\n",
       " '02/3/2019',\n",
       " '02/22/2019',\n",
       " '01/24/2019',\n",
       " '01/25/2019',\n",
       " '03/9/2019',\n",
       " '02/17/2019',\n",
       " '01/11/2019',\n",
       " '02/27/2019',\n",
       " '03/25/2019',\n",
       " '02/11/2019',\n",
       " '01/31/2019',\n",
       " '01/20/2019',\n",
       " '03/26/2019',\n",
       " '01/20/2019',\n",
       " '03/5/2019',\n",
       " '01/5/2019',\n",
       " '02/13/2019',\n",
       " '03/16/2019',\n",
       " '01/15/2019',\n",
       " '02/26/2019',\n",
       " '02/27/2019',\n",
       " '02/17/2019',\n",
       " '02/6/2019',\n",
       " '01/17/2019',\n",
       " '01/22/2019',\n",
       " '03/5/2019',\n",
       " '01/3/2019',\n",
       " '03/20/2019',\n",
       " '01/31/2019',\n",
       " '02/19/2019',\n",
       " '02/11/2019',\n",
       " '02/5/2019',\n",
       " '03/3/2019',\n",
       " '02/24/2019',\n",
       " '02/4/2019',\n",
       " '02/19/2019',\n",
       " '01/23/2019',\n",
       " '01/14/2019',\n",
       " '01/17/2019',\n",
       " '03/3/2019',\n",
       " '02/15/2019',\n",
       " '01/15/2019',\n",
       " '02/27/2019',\n",
       " '02/26/2019',\n",
       " '03/15/2019',\n",
       " '01/24/2019',\n",
       " '02/22/2019',\n",
       " '03/15/2019',\n",
       " '02/11/2019',\n",
       " '01/12/2019',\n",
       " '03/3/2019',\n",
       " '03/23/2019',\n",
       " '03/4/2019',\n",
       " '02/23/2019',\n",
       " '03/17/2019',\n",
       " '01/16/2019',\n",
       " '01/8/2019',\n",
       " '01/14/2019',\n",
       " '01/31/2019',\n",
       " '03/15/2019',\n",
       " '02/24/2019',\n",
       " '02/8/2019',\n",
       " '03/22/2019',\n",
       " '01/24/2019',\n",
       " '03/14/2019',\n",
       " '01/23/2019',\n",
       " '01/19/2019',\n",
       " '01/27/2019',\n",
       " '02/3/2019',\n",
       " '03/25/2019',\n",
       " '02/24/2019',\n",
       " '02/7/2019',\n",
       " '03/4/2019',\n",
       " '02/14/2019',\n",
       " '01/29/2019',\n",
       " '01/28/2019',\n",
       " '03/26/2019',\n",
       " '03/24/2019',\n",
       " '01/1/2019',\n",
       " '01/24/2019',\n",
       " '02/25/2019',\n",
       " '01/9/2019',\n",
       " '02/14/2019',\n",
       " '03/12/2019',\n",
       " '03/26/2019',\n",
       " '01/9/2019',\n",
       " '01/2/2019',\n",
       " '01/15/2019',\n",
       " '01/1/2019',\n",
       " '02/15/2019',\n",
       " '02/28/2019',\n",
       " '03/2/2019',\n",
       " '02/13/2019',\n",
       " '01/26/2019',\n",
       " '01/30/2019',\n",
       " '01/27/2019',\n",
       " '01/30/2019',\n",
       " '01/8/2019',\n",
       " '01/19/2019',\n",
       " '01/25/2019',\n",
       " '02/19/2019',\n",
       " '01/14/2019',\n",
       " '02/25/2019',\n",
       " '01/23/2019',\n",
       " '02/16/2019',\n",
       " '01/1/2019',\n",
       " '03/7/2019',\n",
       " '02/15/2019',\n",
       " '01/23/2019',\n",
       " '02/20/2019',\n",
       " '01/8/2019',\n",
       " '03/17/2019',\n",
       " '01/12/2019',\n",
       " '01/8/2019',\n",
       " '01/26/2019',\n",
       " '03/15/2019',\n",
       " '01/17/2019',\n",
       " '01/8/2019',\n",
       " '01/6/2019',\n",
       " '02/16/2019',\n",
       " '03/13/2019',\n",
       " '01/28/2019',\n",
       " '01/18/2019',\n",
       " '03/19/2019',\n",
       " '03/15/2019',\n",
       " '02/12/2019',\n",
       " '02/25/2019',\n",
       " '03/21/2019',\n",
       " '01/19/2019',\n",
       " '01/8/2019',\n",
       " '03/30/2019',\n",
       " '02/20/2019',\n",
       " '03/30/2019',\n",
       " '03/19/2019',\n",
       " '01/13/2019',\n",
       " '02/5/2019',\n",
       " '03/23/2019',\n",
       " '03/13/2019',\n",
       " '03/17/2019',\n",
       " '02/21/2019',\n",
       " '02/7/2019',\n",
       " '03/2/2019',\n",
       " '03/6/2019',\n",
       " '02/6/2019',\n",
       " '01/28/2019',\n",
       " '01/18/2019',\n",
       " '02/5/2019',\n",
       " '03/2/2019',\n",
       " '02/9/2019',\n",
       " '01/14/2019',\n",
       " '02/9/2019',\n",
       " '03/26/2019',\n",
       " '01/28/2019',\n",
       " '02/14/2019',\n",
       " '03/24/2019',\n",
       " '02/9/2019',\n",
       " '03/24/2019',\n",
       " '03/27/2019',\n",
       " '01/27/2019',\n",
       " '03/27/2019',\n",
       " '01/19/2019',\n",
       " '02/7/2019',\n",
       " '01/31/2019',\n",
       " '02/25/2019',\n",
       " '02/2/2019',\n",
       " '03/14/2019',\n",
       " '03/11/2019',\n",
       " '02/22/2019',\n",
       " '03/2/2019',\n",
       " '03/10/2019',\n",
       " '02/8/2019',\n",
       " '02/22/2019',\n",
       " '01/10/2019',\n",
       " '03/14/2019',\n",
       " '01/10/2019',\n",
       " '02/15/2019',\n",
       " '01/13/2019',\n",
       " '02/15/2019',\n",
       " '03/2/2019',\n",
       " '03/24/2019',\n",
       " '02/2/2019',\n",
       " '02/27/2019',\n",
       " '01/20/2019',\n",
       " '01/3/2019',\n",
       " '01/24/2019',\n",
       " '01/5/2019',\n",
       " '03/30/2019',\n",
       " '02/17/2019',\n",
       " '03/21/2019',\n",
       " '03/2/2019',\n",
       " '03/27/2019',\n",
       " '01/19/2019',\n",
       " '02/19/2019',\n",
       " '03/28/2019',\n",
       " '01/5/2019',\n",
       " '03/26/2019',\n",
       " '02/3/2019',\n",
       " '02/6/2019',\n",
       " '02/24/2019',\n",
       " '02/21/2019',\n",
       " '01/9/2019',\n",
       " '02/25/2019',\n",
       " '01/13/2019',\n",
       " '02/9/2019',\n",
       " '01/6/2019',\n",
       " '01/10/2019',\n",
       " '02/7/2019',\n",
       " '01/9/2019',\n",
       " '02/19/2019',\n",
       " '03/18/2019',\n",
       " '02/5/2019',\n",
       " '03/19/2019',\n",
       " '03/30/2019',\n",
       " '01/26/2019',\n",
       " '03/2/2019',\n",
       " '03/4/2019',\n",
       " '01/13/2019',\n",
       " '03/25/2019',\n",
       " '03/11/2019',\n",
       " '01/1/2019',\n",
       " '02/10/2019',\n",
       " '01/26/2019',\n",
       " '02/11/2019',\n",
       " '02/7/2019',\n",
       " '03/6/2019',\n",
       " '03/4/2019',\n",
       " '02/26/2019',\n",
       " '03/10/2019',\n",
       " '02/4/2019',\n",
       " '01/19/2019',\n",
       " '01/23/2019',\n",
       " '03/14/2019',\n",
       " '01/23/2019',\n",
       " '01/9/2019',\n",
       " '02/7/2019',\n",
       " '02/18/2019',\n",
       " '01/3/2019',\n",
       " '03/29/2019',\n",
       " '01/28/2019',\n",
       " '03/22/2019',\n",
       " '01/24/2019',\n",
       " '03/10/2019',\n",
       " '02/22/2019',\n",
       " '02/18/2019',\n",
       " '01/29/2019',\n",
       " '03/2/2019',\n",
       " '02/9/2019',\n",
       " '02/22/2019',\n",
       " '02/18/2019']"
      ]
     },
     "execution_count": 55,
     "metadata": {},
     "output_type": "execute_result"
    }
   ],
   "source": [
    "dt_list"
   ]
  },
  {
   "cell_type": "code",
   "execution_count": 57,
   "metadata": {},
   "outputs": [],
   "source": [
    "d1['Date1'] = dt_list"
   ]
  },
  {
   "cell_type": "code",
   "execution_count": 58,
   "metadata": {},
   "outputs": [
    {
     "data": {
      "text/html": [
       "<div>\n",
       "<style scoped>\n",
       "    .dataframe tbody tr th:only-of-type {\n",
       "        vertical-align: middle;\n",
       "    }\n",
       "\n",
       "    .dataframe tbody tr th {\n",
       "        vertical-align: top;\n",
       "    }\n",
       "\n",
       "    .dataframe thead th {\n",
       "        text-align: right;\n",
       "    }\n",
       "</style>\n",
       "<table border=\"1\" class=\"dataframe\">\n",
       "  <thead>\n",
       "    <tr style=\"text-align: right;\">\n",
       "      <th></th>\n",
       "      <th>Invoice ID</th>\n",
       "      <th>Branch</th>\n",
       "      <th>City</th>\n",
       "      <th>Customer type</th>\n",
       "      <th>Gender</th>\n",
       "      <th>Product line</th>\n",
       "      <th>Unit price</th>\n",
       "      <th>Quantity</th>\n",
       "      <th>Tax 5%</th>\n",
       "      <th>Total</th>\n",
       "      <th>Date</th>\n",
       "      <th>Time</th>\n",
       "      <th>Payment</th>\n",
       "      <th>cogs</th>\n",
       "      <th>gross margin percentage</th>\n",
       "      <th>gross income</th>\n",
       "      <th>Rating</th>\n",
       "      <th>Date1</th>\n",
       "    </tr>\n",
       "  </thead>\n",
       "  <tbody>\n",
       "    <tr>\n",
       "      <th>0</th>\n",
       "      <td>750-67-8428</td>\n",
       "      <td>A</td>\n",
       "      <td>Yangon</td>\n",
       "      <td>Member</td>\n",
       "      <td>Female</td>\n",
       "      <td>Health and beauty</td>\n",
       "      <td>74.69</td>\n",
       "      <td>7</td>\n",
       "      <td>26.1415</td>\n",
       "      <td>548.9715</td>\n",
       "      <td>1/5/2019</td>\n",
       "      <td>13:08</td>\n",
       "      <td>Ewallet</td>\n",
       "      <td>522.83</td>\n",
       "      <td>4.761905</td>\n",
       "      <td>26.1415</td>\n",
       "      <td>9.1</td>\n",
       "      <td>01/5/2019</td>\n",
       "    </tr>\n",
       "    <tr>\n",
       "      <th>1</th>\n",
       "      <td>226-31-3081</td>\n",
       "      <td>C</td>\n",
       "      <td>Naypyitaw</td>\n",
       "      <td>Normal</td>\n",
       "      <td>Female</td>\n",
       "      <td>Electronic accessories</td>\n",
       "      <td>15.28</td>\n",
       "      <td>5</td>\n",
       "      <td>3.8200</td>\n",
       "      <td>80.2200</td>\n",
       "      <td>3/8/2019</td>\n",
       "      <td>10:29</td>\n",
       "      <td>Cash</td>\n",
       "      <td>76.40</td>\n",
       "      <td>4.761905</td>\n",
       "      <td>3.8200</td>\n",
       "      <td>9.6</td>\n",
       "      <td>03/8/2019</td>\n",
       "    </tr>\n",
       "    <tr>\n",
       "      <th>2</th>\n",
       "      <td>631-41-3108</td>\n",
       "      <td>A</td>\n",
       "      <td>Yangon</td>\n",
       "      <td>Normal</td>\n",
       "      <td>Male</td>\n",
       "      <td>Home and lifestyle</td>\n",
       "      <td>46.33</td>\n",
       "      <td>7</td>\n",
       "      <td>16.2155</td>\n",
       "      <td>340.5255</td>\n",
       "      <td>3/3/2019</td>\n",
       "      <td>13:23</td>\n",
       "      <td>Credit card</td>\n",
       "      <td>324.31</td>\n",
       "      <td>4.761905</td>\n",
       "      <td>16.2155</td>\n",
       "      <td>7.4</td>\n",
       "      <td>03/3/2019</td>\n",
       "    </tr>\n",
       "    <tr>\n",
       "      <th>3</th>\n",
       "      <td>123-19-1176</td>\n",
       "      <td>A</td>\n",
       "      <td>Yangon</td>\n",
       "      <td>Member</td>\n",
       "      <td>Male</td>\n",
       "      <td>Health and beauty</td>\n",
       "      <td>58.22</td>\n",
       "      <td>8</td>\n",
       "      <td>23.2880</td>\n",
       "      <td>489.0480</td>\n",
       "      <td>1/27/2019</td>\n",
       "      <td>20:33</td>\n",
       "      <td>Ewallet</td>\n",
       "      <td>465.76</td>\n",
       "      <td>4.761905</td>\n",
       "      <td>23.2880</td>\n",
       "      <td>8.4</td>\n",
       "      <td>01/27/2019</td>\n",
       "    </tr>\n",
       "    <tr>\n",
       "      <th>4</th>\n",
       "      <td>373-73-7910</td>\n",
       "      <td>A</td>\n",
       "      <td>Yangon</td>\n",
       "      <td>Normal</td>\n",
       "      <td>Male</td>\n",
       "      <td>Sports and travel</td>\n",
       "      <td>86.31</td>\n",
       "      <td>7</td>\n",
       "      <td>30.2085</td>\n",
       "      <td>634.3785</td>\n",
       "      <td>2/8/2019</td>\n",
       "      <td>10:37</td>\n",
       "      <td>Ewallet</td>\n",
       "      <td>604.17</td>\n",
       "      <td>4.761905</td>\n",
       "      <td>30.2085</td>\n",
       "      <td>5.3</td>\n",
       "      <td>02/8/2019</td>\n",
       "    </tr>\n",
       "  </tbody>\n",
       "</table>\n",
       "</div>"
      ],
      "text/plain": [
       "    Invoice ID Branch       City Customer type  Gender  \\\n",
       "0  750-67-8428      A     Yangon        Member  Female   \n",
       "1  226-31-3081      C  Naypyitaw        Normal  Female   \n",
       "2  631-41-3108      A     Yangon        Normal    Male   \n",
       "3  123-19-1176      A     Yangon        Member    Male   \n",
       "4  373-73-7910      A     Yangon        Normal    Male   \n",
       "\n",
       "             Product line  Unit price  Quantity   Tax 5%     Total       Date  \\\n",
       "0       Health and beauty       74.69         7  26.1415  548.9715   1/5/2019   \n",
       "1  Electronic accessories       15.28         5   3.8200   80.2200   3/8/2019   \n",
       "2      Home and lifestyle       46.33         7  16.2155  340.5255   3/3/2019   \n",
       "3       Health and beauty       58.22         8  23.2880  489.0480  1/27/2019   \n",
       "4       Sports and travel       86.31         7  30.2085  634.3785   2/8/2019   \n",
       "\n",
       "    Time      Payment    cogs  gross margin percentage  gross income  Rating  \\\n",
       "0  13:08      Ewallet  522.83                 4.761905       26.1415     9.1   \n",
       "1  10:29         Cash   76.40                 4.761905        3.8200     9.6   \n",
       "2  13:23  Credit card  324.31                 4.761905       16.2155     7.4   \n",
       "3  20:33      Ewallet  465.76                 4.761905       23.2880     8.4   \n",
       "4  10:37      Ewallet  604.17                 4.761905       30.2085     5.3   \n",
       "\n",
       "        Date1  \n",
       "0   01/5/2019  \n",
       "1   03/8/2019  \n",
       "2   03/3/2019  \n",
       "3  01/27/2019  \n",
       "4   02/8/2019  "
      ]
     },
     "execution_count": 58,
     "metadata": {},
     "output_type": "execute_result"
    }
   ],
   "source": [
    "d1.head()"
   ]
  },
  {
   "cell_type": "code",
   "execution_count": 60,
   "metadata": {},
   "outputs": [],
   "source": [
    "d1['Date1'] = pd.to_datetime(d1['Date1'], format = '%m/%d/%Y')"
   ]
  },
  {
   "cell_type": "code",
   "execution_count": 93,
   "metadata": {},
   "outputs": [
    {
     "data": {
      "image/png": "[encoded data removed]",
      "text/plain": [
       "<Figure size 1440x504 with 1 Axes>"
      ]
     },
     "metadata": {
      "needs_background": "light"
     },
     "output_type": "display_data"
    }
   ],
   "source": [
    "plt.figure(figsize = (20,7))\n",
    "sns.lineplot(x = 'Date1', y = 'gross income', data = d1)\n",
    "plt.xticks(rotation = 'vertical', size = 8)\n",
    "plt.show()"
   ]
  },
  {
   "cell_type": "code",
   "execution_count": 63,
   "metadata": {},
   "outputs": [
    {
     "data": {
      "text/plain": [
       "0      13:08\n",
       "1      10:29\n",
       "2      13:23\n",
       "3      20:33\n",
       "4      10:37\n",
       "       ...  \n",
       "995    13:46\n",
       "996    17:16\n",
       "997    13:22\n",
       "998    15:33\n",
       "999    13:28\n",
       "Name: Time, Length: 1000, dtype: object"
      ]
     },
     "execution_count": 63,
     "metadata": {},
     "output_type": "execute_result"
    }
   ],
   "source": [
    "d1['Time']"
   ]
  },
  {
   "cell_type": "code",
   "execution_count": 71,
   "metadata": {},
   "outputs": [
    {
     "data": {
      "text/plain": [
       "<AxesSubplot:xlabel='Date1', ylabel='gross income'>"
      ]
     },
     "execution_count": 71,
     "metadata": {},
     "output_type": "execute_result"
    },
    {
     "data": {
      "image/png": "[encoded data removed]",
      "text/plain": [
       "<Figure size 1440x504 with 1 Axes>"
      ]
     },
     "metadata": {
      "needs_background": "light"
     },
     "output_type": "display_data"
    }
   ],
   "source": [
    "d12 = d1.sample(n = 100, random_state = 25, axis = 0)\n",
    "plt.figure(figsize = (20, 7))\n",
    "sns.lineplot(x = 'Date1', y = 'gross income', data = d12)"
   ]
  },
  {
   "cell_type": "code",
   "execution_count": 73,
   "metadata": {},
   "outputs": [],
   "source": [
    "d1['Time'] = pd.to_datetime(d1['Time'], format = '%H:%M')"
   ]
  },
  {
   "cell_type": "code",
   "execution_count": 77,
   "metadata": {},
   "outputs": [
    {
     "name": "stdout",
     "output_type": "stream",
     "text": [
      "5510\n"
     ]
    }
   ],
   "source": [
    "total = d1['Quantity'].sum()\n",
    "print(total)"
   ]
  },
  {
   "cell_type": "code",
   "execution_count": 78,
   "metadata": {},
   "outputs": [
    {
     "data": {
      "text/plain": [
       "2785"
      ]
     },
     "execution_count": 78,
     "metadata": {},
     "output_type": "execute_result"
    }
   ],
   "source": [
    "d1.loc[d1['Customer type'] == 'Member', 'Quantity'].sum()"
   ]
  },
  {
   "cell_type": "code",
   "execution_count": 80,
   "metadata": {},
   "outputs": [
    {
     "data": {
      "text/plain": [
       "2725"
      ]
     },
     "execution_count": 80,
     "metadata": {},
     "output_type": "execute_result"
    }
   ],
   "source": [
    "d1.loc[d1['Customer type'] == 'Normal', 'Quantity'].sum()"
   ]
  },
  {
   "cell_type": "code",
   "execution_count": 95,
   "metadata": {
    "scrolled": true
   },
   "outputs": [
    {
     "data": {
      "text/plain": [
       "<AxesSubplot:xlabel='Product line', ylabel='count'>"
      ]
     },
     "execution_count": 95,
     "metadata": {},
     "output_type": "execute_result"
    },
    {
     "data": {
      "image/png": "[encoded data removed]",
      "text/plain": [
       "<Figure size 1296x504 with 1 Axes>"
      ]
     },
     "metadata": {
      "needs_background": "light"
     },
     "output_type": "display_data"
    }
   ],
   "source": [
    "plt.figure(figsize = (18, 7))\n",
    "sns.countplot(x = 'Product line', hue = 'City', palette = 'YlGnBu', data = d1)"
   ]
  },
  {
   "cell_type": "code",
   "execution_count": 96,
   "metadata": {},
   "outputs": [
    {
     "data": {
      "text/plain": [
       "1859"
      ]
     },
     "execution_count": 96,
     "metadata": {},
     "output_type": "execute_result"
    }
   ],
   "source": [
    "d1.loc[d1['City'] == 'Yangon', 'Quantity'].sum()"
   ]
  },
  {
   "cell_type": "code",
   "execution_count": 97,
   "metadata": {},
   "outputs": [
    {
     "data": {
      "text/plain": [
       "1831"
      ]
     },
     "execution_count": 97,
     "metadata": {},
     "output_type": "execute_result"
    }
   ],
   "source": [
    "d1.loc[d1['City'] == 'Naypyitaw', 'Quantity'].sum()"
   ]
  },
  {
   "cell_type": "code",
   "execution_count": 98,
   "metadata": {},
   "outputs": [
    {
     "data": {
      "text/plain": [
       "1820"
      ]
     },
     "execution_count": 98,
     "metadata": {},
     "output_type": "execute_result"
    }
   ],
   "source": [
    "d1.loc[d1['City'] == 'Mandalay', 'Quantity'].sum()"
   ]
  },
  {
   "cell_type": "code",
   "execution_count": 99,
   "metadata": {},
   "outputs": [
    {
     "data": {
      "text/plain": [
       "5057.1605"
      ]
     },
     "execution_count": 99,
     "metadata": {},
     "output_type": "execute_result"
    }
   ],
   "source": [
    "d1.loc[d1['City'] == 'Yangon', 'gross income'].sum()"
   ]
  },
  {
   "cell_type": "code",
   "execution_count": 100,
   "metadata": {},
   "outputs": [
    {
     "data": {
      "text/plain": [
       "5265.1765"
      ]
     },
     "execution_count": 100,
     "metadata": {},
     "output_type": "execute_result"
    }
   ],
   "source": [
    "d1.loc[d1['City'] == 'Naypyitaw', 'gross income'].sum()"
   ]
  },
  {
   "cell_type": "code",
   "execution_count": 101,
   "metadata": {},
   "outputs": [
    {
     "data": {
      "text/plain": [
       "5057.032"
      ]
     },
     "execution_count": 101,
     "metadata": {},
     "output_type": "execute_result"
    }
   ],
   "source": [
    "d1.loc[d1['City'] == 'Mandalay', 'gross income'].sum()"
   ]
  },
  {
   "cell_type": "code",
   "execution_count": 102,
   "metadata": {},
   "outputs": [
    {
     "data": {
      "text/plain": [
       "Female    501\n",
       "Male      499\n",
       "Name: Gender, dtype: int64"
      ]
     },
     "execution_count": 102,
     "metadata": {},
     "output_type": "execute_result"
    }
   ],
   "source": [
    "d1['Gender'].value_counts()"
   ]
  },
  {
   "cell_type": "code",
   "execution_count": 103,
   "metadata": {},
   "outputs": [
    {
     "data": {
      "text/plain": [
       "Fashion accessories       178\n",
       "Food and beverages        174\n",
       "Electronic accessories    170\n",
       "Sports and travel         166\n",
       "Home and lifestyle        160\n",
       "Health and beauty         152\n",
       "Name: Product line, dtype: int64"
      ]
     },
     "execution_count": 103,
     "metadata": {},
     "output_type": "execute_result"
    }
   ],
   "source": [
    "d1['Product line'].value_counts()"
   ]
  },
  {
   "cell_type": "code",
   "execution_count": 104,
   "metadata": {},
   "outputs": [
    {
     "data": {
      "text/plain": [
       "Yangon       340\n",
       "Mandalay     332\n",
       "Naypyitaw    328\n",
       "Name: City, dtype: int64"
      ]
     },
     "execution_count": 104,
     "metadata": {},
     "output_type": "execute_result"
    }
   ],
   "source": [
    "d1['City'].value_counts()"
   ]
  },
  {
   "cell_type": "code",
   "execution_count": 105,
   "metadata": {},
   "outputs": [
    {
     "data": {
      "text/plain": [
       "A    340\n",
       "B    332\n",
       "C    328\n",
       "Name: Branch, dtype: int64"
      ]
     },
     "execution_count": 105,
     "metadata": {},
     "output_type": "execute_result"
    }
   ],
   "source": [
    "d1['Branch'].value_counts()"
   ]
  },
  {
   "cell_type": "code",
   "execution_count": 106,
   "metadata": {},
   "outputs": [
    {
     "data": {
      "text/plain": [
       "Member    501\n",
       "Normal    499\n",
       "Name: Customer type, dtype: int64"
      ]
     },
     "execution_count": 106,
     "metadata": {},
     "output_type": "execute_result"
    }
   ],
   "source": [
    "d1['Customer type'].value_counts()"
   ]
  },
  {
   "cell_type": "markdown",
   "metadata": {},
   "source": [
    "# Relation between rating and gross income"
   ]
  },
  {
   "cell_type": "code",
   "execution_count": 123,
   "metadata": {
    "scrolled": true
   },
   "outputs": [
    {
     "name": "stderr",
     "output_type": "stream",
     "text": [
      "C:\\Users\\Dell\\anaconda3\\lib\\site-packages\\seaborn\\_decorators.py:36: FutureWarning: Pass the following variables as keyword args: x, y. From version 0.12, the only valid positional argument will be `data`, and passing other arguments without an explicit keyword will result in an error or misinterpretation.\n",
      "  warnings.warn(\n"
     ]
    },
    {
     "data": {
      "text/plain": [
       "<AxesSubplot:xlabel='Rating', ylabel='gross income'>"
      ]
     },
     "execution_count": 123,
     "metadata": {},
     "output_type": "execute_result"
    },
    {
     "data": {
      "image/png": "[encoded data removed]",
      "text/plain": [
       "<Figure size 432x288 with 1 Axes>"
      ]
     },
     "metadata": {
      "needs_background": "light"
     },
     "output_type": "display_data"
    }
   ],
   "source": [
    "sns.regplot(df['Rating'], df['gross income'])"
   ]
  },
  {
   "cell_type": "markdown",
   "metadata": {},
   "source": [
    "# Relation between gender and gross income"
   ]
  },
  {
   "cell_type": "code",
   "execution_count": 108,
   "metadata": {
    "scrolled": false
   },
   "outputs": [
    {
     "data": {
      "text/plain": [
       "<AxesSubplot:xlabel='Gender', ylabel='gross income'>"
      ]
     },
     "execution_count": 108,
     "metadata": {},
     "output_type": "execute_result"
    },
    {
     "data": {
      "image/png": "[encoded data removed]",
      "text/plain": [
       "<Figure size 432x288 with 1 Axes>"
      ]
     },
     "metadata": {
      "needs_background": "light"
     },
     "output_type": "display_data"
    }
   ],
   "source": [
    "sns.boxplot(x = df['Gender'], y = df['gross income'])"
   ]
  },
  {
   "cell_type": "code",
   "execution_count": 109,
   "metadata": {},
   "outputs": [
    {
     "data": {
      "text/plain": [
       "<AxesSubplot:ylabel='gross income'>"
      ]
     },
     "execution_count": 109,
     "metadata": {},
     "output_type": "execute_result"
    },
    {
     "data": {
      "image/png": "[encoded data removed]",
      "text/plain": [
       "<Figure size 432x288 with 1 Axes>"
      ]
     },
     "metadata": {
      "needs_background": "light"
     },
     "output_type": "display_data"
    }
   ],
   "source": [
    "sns.lineplot(x = df.groupby(df.index).mean().index, y = df.groupby(df.index).mean()['gross income'])"
   ]
  },
  {
   "cell_type": "markdown",
   "metadata": {},
   "source": [
    "# Spending pattern of males and females"
   ]
  },
  {
   "cell_type": "code",
   "execution_count": 111,
   "metadata": {
    "scrolled": true
   },
   "outputs": [
    {
     "data": {
      "text/plain": [
       "<AxesSubplot:title={'center':'Spending pattern'}, xlabel='Product line', ylabel='count'>"
      ]
     },
     "execution_count": 111,
     "metadata": {},
     "output_type": "execute_result"
    },
    {
     "data": {
      "image/png": "[encoded data removed]",
      "text/plain": [
       "<Figure size 1296x504 with 1 Axes>"
      ]
     },
     "metadata": {
      "needs_background": "light"
     },
     "output_type": "display_data"
    }
   ],
   "source": [
    "plt.figure(figsize = (18, 7))\n",
    "plt.title('Spending pattern')\n",
    "sns.countplot(x = 'Product line', hue = 'Gender', palette = 'magma', data = d1)"
   ]
  },
  {
   "cell_type": "markdown",
   "metadata": {},
   "source": [
    "# Products bought by customers"
   ]
  },
  {
   "cell_type": "code",
   "execution_count": 113,
   "metadata": {},
   "outputs": [
    {
     "name": "stderr",
     "output_type": "stream",
     "text": [
      "C:\\Users\\Dell\\anaconda3\\lib\\site-packages\\seaborn\\distributions.py:2551: FutureWarning: `distplot` is a deprecated function and will be removed in a future version. Please adapt your code to use either `displot` (a figure-level function with similar flexibility) or `histplot` (an axes-level function for histograms).\n",
      "  warnings.warn(msg, FutureWarning)\n"
     ]
    },
    {
     "data": {
      "image/png": "[encoded data removed]",
      "text/plain": [
       "<Figure size 864x504 with 1 Axes>"
      ]
     },
     "metadata": {
      "needs_background": "light"
     },
     "output_type": "display_data"
    }
   ],
   "source": [
    "xdata = [1, 2, 3, 4, 5, 6, 7, 8, 9, 10]\n",
    "plt.figure(figsize = (12, 7))\n",
    "sns.distplot(d1['Quantity'])\n",
    "plt.xticks(xdata)\n",
    "plt.show()"
   ]
  },
  {
   "cell_type": "code",
   "execution_count": null,
   "metadata": {},
   "outputs": [],
   "source": [
    "plt.figure(figsize = (12, 7))\n",
    "plt.title('Daily Sales by Day of the Week')\n",
    "sns.countplot(d1['Weekday'])"
   ]
  },
  {
   "cell_type": "code",
   "execution_count": 118,
   "metadata": {},
   "outputs": [
    {
     "data": {
      "text/plain": [
       "<AxesSubplot:xlabel='City', ylabel='gross income'>"
      ]
     },
     "execution_count": 118,
     "metadata": {},
     "output_type": "execute_result"
    },
    {
     "data": {
      "image/png": "[encoded data removed]",
      "text/plain": [
       "<Figure size 432x288 with 1 Axes>"
      ]
     },
     "metadata": {
      "needs_background": "light"
     },
     "output_type": "display_data"
    }
   ],
   "source": [
    "sns.barplot(x=\"City\", y=\"gross income\", data=d1, palette = 'YlGnBu')"
   ]
  },
  {
   "cell_type": "code",
   "execution_count": 119,
   "metadata": {},
   "outputs": [],
   "source": [
    "d1['Hour'] = (d1['Time']).dt.hour"
   ]
  },
  {
   "cell_type": "code",
   "execution_count": 120,
   "metadata": {},
   "outputs": [
    {
     "data": {
      "text/plain": [
       "array([13, 10, 20, 18, 14, 11, 17, 16, 19, 15, 12], dtype=int64)"
      ]
     },
     "execution_count": 120,
     "metadata": {},
     "output_type": "execute_result"
    }
   ],
   "source": [
    "d1['Hour'].unique()"
   ]
  },
  {
   "cell_type": "markdown",
   "metadata": {},
   "source": [
    "# Busiest Hour of the Day"
   ]
  },
  {
   "cell_type": "code",
   "execution_count": 122,
   "metadata": {
    "scrolled": true
   },
   "outputs": [
    {
     "data": {
      "image/png": "[encoded data removed]",
      "text/plain": [
       "<Figure size 432x288 with 1 Axes>"
      ]
     },
     "metadata": {
      "needs_background": "light"
     },
     "output_type": "display_data"
    }
   ],
   "source": [
    "sns.lineplot(x = 'Hour', y = 'Quantity', data = d1)\n",
    "plt.title('Sales per hour')\n",
    "plt.show()"
   ]
  },
  {
   "cell_type": "markdown",
   "metadata": {},
   "source": [
    "# Data Preprocessing for Model Building"
   ]
  },
  {
   "cell_type": "code",
   "execution_count": null,
   "metadata": {},
   "outputs": [],
   "source": [
    "df = df.drop(['Date', 'Time', 'Invoice ID'], axis = 1)\n",
    "df.head()"
   ]
  },
  {
   "cell_type": "code",
   "execution_count": 128,
   "metadata": {
    "scrolled": true
   },
   "outputs": [
    {
     "data": {
      "text/html": [
       "<div>\n",
       "<style scoped>\n",
       "    .dataframe tbody tr th:only-of-type {\n",
       "        vertical-align: middle;\n",
       "    }\n",
       "\n",
       "    .dataframe tbody tr th {\n",
       "        vertical-align: top;\n",
       "    }\n",
       "\n",
       "    .dataframe thead th {\n",
       "        text-align: right;\n",
       "    }\n",
       "</style>\n",
       "<table border=\"1\" class=\"dataframe\">\n",
       "  <thead>\n",
       "    <tr style=\"text-align: right;\">\n",
       "      <th></th>\n",
       "      <th>Branch</th>\n",
       "      <th>City</th>\n",
       "      <th>Customer type</th>\n",
       "      <th>Gender</th>\n",
       "      <th>Product line</th>\n",
       "      <th>Unit price</th>\n",
       "      <th>Quantity</th>\n",
       "      <th>Tax 5%</th>\n",
       "      <th>Total</th>\n",
       "      <th>Payment</th>\n",
       "      <th>cogs</th>\n",
       "      <th>gross income</th>\n",
       "      <th>Rating</th>\n",
       "    </tr>\n",
       "  </thead>\n",
       "  <tbody>\n",
       "    <tr>\n",
       "      <th>0</th>\n",
       "      <td>0</td>\n",
       "      <td>2</td>\n",
       "      <td>0</td>\n",
       "      <td>0</td>\n",
       "      <td>3</td>\n",
       "      <td>74.69</td>\n",
       "      <td>7</td>\n",
       "      <td>26.1415</td>\n",
       "      <td>548.9715</td>\n",
       "      <td>2</td>\n",
       "      <td>522.83</td>\n",
       "      <td>26.1415</td>\n",
       "      <td>9.1</td>\n",
       "    </tr>\n",
       "    <tr>\n",
       "      <th>1</th>\n",
       "      <td>2</td>\n",
       "      <td>1</td>\n",
       "      <td>1</td>\n",
       "      <td>0</td>\n",
       "      <td>0</td>\n",
       "      <td>15.28</td>\n",
       "      <td>5</td>\n",
       "      <td>3.8200</td>\n",
       "      <td>80.2200</td>\n",
       "      <td>0</td>\n",
       "      <td>76.40</td>\n",
       "      <td>3.8200</td>\n",
       "      <td>9.6</td>\n",
       "    </tr>\n",
       "    <tr>\n",
       "      <th>2</th>\n",
       "      <td>0</td>\n",
       "      <td>2</td>\n",
       "      <td>1</td>\n",
       "      <td>1</td>\n",
       "      <td>4</td>\n",
       "      <td>46.33</td>\n",
       "      <td>7</td>\n",
       "      <td>16.2155</td>\n",
       "      <td>340.5255</td>\n",
       "      <td>1</td>\n",
       "      <td>324.31</td>\n",
       "      <td>16.2155</td>\n",
       "      <td>7.4</td>\n",
       "    </tr>\n",
       "    <tr>\n",
       "      <th>3</th>\n",
       "      <td>0</td>\n",
       "      <td>2</td>\n",
       "      <td>0</td>\n",
       "      <td>1</td>\n",
       "      <td>3</td>\n",
       "      <td>58.22</td>\n",
       "      <td>8</td>\n",
       "      <td>23.2880</td>\n",
       "      <td>489.0480</td>\n",
       "      <td>2</td>\n",
       "      <td>465.76</td>\n",
       "      <td>23.2880</td>\n",
       "      <td>8.4</td>\n",
       "    </tr>\n",
       "    <tr>\n",
       "      <th>4</th>\n",
       "      <td>0</td>\n",
       "      <td>2</td>\n",
       "      <td>1</td>\n",
       "      <td>1</td>\n",
       "      <td>5</td>\n",
       "      <td>86.31</td>\n",
       "      <td>7</td>\n",
       "      <td>30.2085</td>\n",
       "      <td>634.3785</td>\n",
       "      <td>2</td>\n",
       "      <td>604.17</td>\n",
       "      <td>30.2085</td>\n",
       "      <td>5.3</td>\n",
       "    </tr>\n",
       "  </tbody>\n",
       "</table>\n",
       "</div>"
      ],
      "text/plain": [
       "   Branch  City  Customer type  Gender  Product line  Unit price  Quantity  \\\n",
       "0       0     2              0       0             3       74.69         7   \n",
       "1       2     1              1       0             0       15.28         5   \n",
       "2       0     2              1       1             4       46.33         7   \n",
       "3       0     2              0       1             3       58.22         8   \n",
       "4       0     2              1       1             5       86.31         7   \n",
       "\n",
       "    Tax 5%     Total  Payment    cogs  gross income  Rating  \n",
       "0  26.1415  548.9715        2  522.83       26.1415     9.1  \n",
       "1   3.8200   80.2200        0   76.40        3.8200     9.6  \n",
       "2  16.2155  340.5255        1  324.31       16.2155     7.4  \n",
       "3  23.2880  489.0480        2  465.76       23.2880     8.4  \n",
       "4  30.2085  634.3785        2  604.17       30.2085     5.3  "
      ]
     },
     "execution_count": 128,
     "metadata": {},
     "output_type": "execute_result"
    }
   ],
   "source": [
    "df = df.drop('gross margin percentage', axis = 1)\n",
    "df.head()"
   ]
  },
  {
   "cell_type": "code",
   "execution_count": 137,
   "metadata": {},
   "outputs": [],
   "source": [
    "y=df['gross income']\n",
    "x=df.drop('gross income',axis=1)"
   ]
  },
  {
   "cell_type": "markdown",
   "metadata": {},
   "source": [
    "# Predicting Gross Income"
   ]
  },
  {
   "cell_type": "code",
   "execution_count": 138,
   "metadata": {},
   "outputs": [],
   "source": [
    "from sklearn.model_selection import train_test_split\n",
    "x_train,x_test,y_train,y_test=train_test_split(x,y,random_state=0,test_size=0.2)"
   ]
  },
  {
   "cell_type": "code",
   "execution_count": 139,
   "metadata": {},
   "outputs": [
    {
     "name": "stdout",
     "output_type": "stream",
     "text": [
      "800\n",
      "200\n",
      "800\n",
      "200\n"
     ]
    }
   ],
   "source": [
    "print(len(x_train))\n",
    "print(len(x_test))\n",
    "print(len(y_train))\n",
    "print(len(y_test))"
   ]
  },
  {
   "cell_type": "code",
   "execution_count": 141,
   "metadata": {},
   "outputs": [
    {
     "data": {
      "text/plain": [
       "LinearRegression()"
      ]
     },
     "execution_count": 141,
     "metadata": {},
     "output_type": "execute_result"
    }
   ],
   "source": [
    "from sklearn.linear_model import LinearRegression\n",
    "reg = LinearRegression()\n",
    "reg.fit(x_train, y_train)"
   ]
  },
  {
   "cell_type": "code",
   "execution_count": 140,
   "metadata": {},
   "outputs": [
    {
     "name": "stdout",
     "output_type": "stream",
     "text": [
      "<class 'pandas.core.frame.DataFrame'>\n",
      "Int64Index: 800 entries, 687 to 684\n",
      "Data columns (total 12 columns):\n",
      " #   Column         Non-Null Count  Dtype  \n",
      "---  ------         --------------  -----  \n",
      " 0   Branch         800 non-null    int32  \n",
      " 1   City           800 non-null    int32  \n",
      " 2   Customer type  800 non-null    int32  \n",
      " 3   Gender         800 non-null    int32  \n",
      " 4   Product line   800 non-null    int32  \n",
      " 5   Unit price     800 non-null    float64\n",
      " 6   Quantity       800 non-null    int64  \n",
      " 7   Tax 5%         800 non-null    float64\n",
      " 8   Total          800 non-null    float64\n",
      " 9   Payment        800 non-null    int32  \n",
      " 10  cogs           800 non-null    float64\n",
      " 11  Rating         800 non-null    float64\n",
      "dtypes: float64(5), int32(6), int64(1)\n",
      "memory usage: 62.5 KB\n"
     ]
    }
   ],
   "source": [
    "x_train.info()"
   ]
  },
  {
   "cell_type": "code",
   "execution_count": 136,
   "metadata": {},
   "outputs": [
    {
     "data": {
      "text/html": [
       "<div>\n",
       "<style scoped>\n",
       "    .dataframe tbody tr th:only-of-type {\n",
       "        vertical-align: middle;\n",
       "    }\n",
       "\n",
       "    .dataframe tbody tr th {\n",
       "        vertical-align: top;\n",
       "    }\n",
       "\n",
       "    .dataframe thead th {\n",
       "        text-align: right;\n",
       "    }\n",
       "</style>\n",
       "<table border=\"1\" class=\"dataframe\">\n",
       "  <thead>\n",
       "    <tr style=\"text-align: right;\">\n",
       "      <th></th>\n",
       "      <th>Invoice ID</th>\n",
       "      <th>Branch</th>\n",
       "      <th>City</th>\n",
       "      <th>Customer type</th>\n",
       "      <th>Gender</th>\n",
       "      <th>Product line</th>\n",
       "      <th>Unit price</th>\n",
       "      <th>Quantity</th>\n",
       "      <th>Tax 5%</th>\n",
       "      <th>Total</th>\n",
       "      <th>Date</th>\n",
       "      <th>Time</th>\n",
       "      <th>Payment</th>\n",
       "      <th>cogs</th>\n",
       "      <th>gross margin percentage</th>\n",
       "      <th>Rating</th>\n",
       "      <th>Date1</th>\n",
       "    </tr>\n",
       "  </thead>\n",
       "  <tbody>\n",
       "    <tr>\n",
       "      <th>687</th>\n",
       "      <td>680</td>\n",
       "      <td>0</td>\n",
       "      <td>2</td>\n",
       "      <td>0</td>\n",
       "      <td>1</td>\n",
       "      <td>4</td>\n",
       "      <td>63.56</td>\n",
       "      <td>10</td>\n",
       "      <td>31.7800</td>\n",
       "      <td>667.3800</td>\n",
       "      <td>1970-01-01 00:00:00.000000007</td>\n",
       "      <td>369</td>\n",
       "      <td>0</td>\n",
       "      <td>635.60</td>\n",
       "      <td>4.761905</td>\n",
       "      <td>4.3</td>\n",
       "      <td>01/16/2019</td>\n",
       "    </tr>\n",
       "    <tr>\n",
       "      <th>500</th>\n",
       "      <td>215</td>\n",
       "      <td>1</td>\n",
       "      <td>0</td>\n",
       "      <td>0</td>\n",
       "      <td>1</td>\n",
       "      <td>5</td>\n",
       "      <td>73.97</td>\n",
       "      <td>1</td>\n",
       "      <td>3.6985</td>\n",
       "      <td>77.6685</td>\n",
       "      <td>1970-01-01 00:00:00.000000052</td>\n",
       "      <td>277</td>\n",
       "      <td>1</td>\n",
       "      <td>73.97</td>\n",
       "      <td>4.761905</td>\n",
       "      <td>5.4</td>\n",
       "      <td>02/3/2019</td>\n",
       "    </tr>\n",
       "    <tr>\n",
       "      <th>332</th>\n",
       "      <td>571</td>\n",
       "      <td>0</td>\n",
       "      <td>2</td>\n",
       "      <td>1</td>\n",
       "      <td>1</td>\n",
       "      <td>1</td>\n",
       "      <td>77.02</td>\n",
       "      <td>5</td>\n",
       "      <td>19.2550</td>\n",
       "      <td>404.3550</td>\n",
       "      <td>1970-01-01 00:00:00.000000052</td>\n",
       "      <td>283</td>\n",
       "      <td>0</td>\n",
       "      <td>385.10</td>\n",
       "      <td>4.761905</td>\n",
       "      <td>5.5</td>\n",
       "      <td>02/3/2019</td>\n",
       "    </tr>\n",
       "    <tr>\n",
       "      <th>979</th>\n",
       "      <td>58</td>\n",
       "      <td>1</td>\n",
       "      <td>0</td>\n",
       "      <td>1</td>\n",
       "      <td>0</td>\n",
       "      <td>2</td>\n",
       "      <td>67.77</td>\n",
       "      <td>1</td>\n",
       "      <td>3.3885</td>\n",
       "      <td>71.1585</td>\n",
       "      <td>1970-01-01 00:00:00.000000053</td>\n",
       "      <td>494</td>\n",
       "      <td>1</td>\n",
       "      <td>67.77</td>\n",
       "      <td>4.761905</td>\n",
       "      <td>6.5</td>\n",
       "      <td>02/4/2019</td>\n",
       "    </tr>\n",
       "    <tr>\n",
       "      <th>817</th>\n",
       "      <td>908</td>\n",
       "      <td>0</td>\n",
       "      <td>2</td>\n",
       "      <td>1</td>\n",
       "      <td>1</td>\n",
       "      <td>2</td>\n",
       "      <td>33.88</td>\n",
       "      <td>8</td>\n",
       "      <td>13.5520</td>\n",
       "      <td>284.5920</td>\n",
       "      <td>1970-01-01 00:00:00.000000010</td>\n",
       "      <td>481</td>\n",
       "      <td>2</td>\n",
       "      <td>271.04</td>\n",
       "      <td>4.761905</td>\n",
       "      <td>9.6</td>\n",
       "      <td>01/19/2019</td>\n",
       "    </tr>\n",
       "  </tbody>\n",
       "</table>\n",
       "</div>"
      ],
      "text/plain": [
       "     Invoice ID  Branch  City  Customer type  Gender  Product line  \\\n",
       "687         680       0     2              0       1             4   \n",
       "500         215       1     0              0       1             5   \n",
       "332         571       0     2              1       1             1   \n",
       "979          58       1     0              1       0             2   \n",
       "817         908       0     2              1       1             2   \n",
       "\n",
       "     Unit price  Quantity   Tax 5%     Total                          Date  \\\n",
       "687       63.56        10  31.7800  667.3800 1970-01-01 00:00:00.000000007   \n",
       "500       73.97         1   3.6985   77.6685 1970-01-01 00:00:00.000000052   \n",
       "332       77.02         5  19.2550  404.3550 1970-01-01 00:00:00.000000052   \n",
       "979       67.77         1   3.3885   71.1585 1970-01-01 00:00:00.000000053   \n",
       "817       33.88         8  13.5520  284.5920 1970-01-01 00:00:00.000000010   \n",
       "\n",
       "     Time  Payment    cogs  gross margin percentage  Rating       Date1  \n",
       "687   369        0  635.60                 4.761905     4.3  01/16/2019  \n",
       "500   277        1   73.97                 4.761905     5.4   02/3/2019  \n",
       "332   283        0  385.10                 4.761905     5.5   02/3/2019  \n",
       "979   494        1   67.77                 4.761905     6.5   02/4/2019  \n",
       "817   481        2  271.04                 4.761905     9.6  01/19/2019  "
      ]
     },
     "execution_count": 136,
     "metadata": {},
     "output_type": "execute_result"
    }
   ],
   "source": [
    "x_train.head()"
   ]
  },
  {
   "cell_type": "code",
   "execution_count": 142,
   "metadata": {},
   "outputs": [],
   "source": [
    "y_pred = reg.predict(x_test)"
   ]
  },
  {
   "cell_type": "code",
   "execution_count": 146,
   "metadata": {},
   "outputs": [
    {
     "name": "stdout",
     "output_type": "stream",
     "text": [
      "Training Score:\n",
      " 100.0\n"
     ]
    }
   ],
   "source": [
    "from sklearn.metrics import accuracy_score,classification_report,confusion_matrix\n",
    "from sklearn.metrics import r2_score\n",
    "from sklearn.metrics import mean_squared_error\n",
    "print(\"Training Score:\\n\",reg.score(x_train,y_train)*100)"
   ]
  },
  {
   "cell_type": "code",
   "execution_count": 147,
   "metadata": {},
   "outputs": [
    {
     "name": "stdout",
     "output_type": "stream",
     "text": [
      "Testing Score:\n",
      " 100.0\n"
     ]
    }
   ],
   "source": [
    "print(\"Testing Score:\\n\",reg.score(x_test,y_test)*100)"
   ]
  },
  {
   "cell_type": "code",
   "execution_count": 148,
   "metadata": {},
   "outputs": [
    {
     "data": {
      "text/plain": [
       "array([ 8.745 , 21.4335, 12.002 ,  6.663 , 11.0115, 12.9185,  8.767 ,\n",
       "        1.5885, 14.0805,  8.6   ,  6.322 , 12.498 ,  2.54  ,  4.4845,\n",
       "       12.854 , 34.392 , 42.305 , 15.228 , 35.69  ,  9.0045, 35.1315,\n",
       "       16.4   , 23.979 ,  6.933 , 10.326 ,  9.0705, 18.792 , 17.478 ,\n",
       "       38.6   ,  3.82  , 10.3065, 24.186 , 33.725 ,  2.3205, 11.306 ,\n",
       "       28.42  , 13.806 , 23.094 , 10.3455, 37.3   ,  8.137 , 48.69  ,\n",
       "       33.235 , 31.311 , 17.595 , 17.604 , 11.79  , 45.25  ,  3.162 ,\n",
       "       10.765 ,  4.935 , 12.98  ,  7.66  ,  7.038 ,  5.076 ,  9.298 ,\n",
       "        9.693 , 16.8575, 24.8   ,  8.814 , 25.893 , 29.008 , 34.3   ,\n",
       "       21.4935,  3.876 ,  4.37  ,  2.7225, 34.672 ,  1.439 , 12.06  ,\n",
       "       36.624 ,  4.4305, 19.4635,  4.485 ,  4.4155,  5.2425,  6.377 ,\n",
       "        3.0435,  3.2495, 12.036 ,  3.29  , 34.83  , 14.031 , 43.866 ,\n",
       "       24.505 , 25.683 ,  4.3525,  1.595 , 27.072 ,  4.658 , 15.9025,\n",
       "        9.989 , 29.099 , 22.01  ,  4.4075,  9.898 , 27.951 , 15.291 ,\n",
       "       13.188 ,  3.0125, 26.103 , 26.718 ,  7.935 ,  6.9325, 18.6975,\n",
       "       10.1325,  8.661 , 20.6185,  7.9   , 10.3635,  3.735 ,  3.616 ,\n",
       "       13.0025,  6.287 ,  6.524 ,  3.791 ,  7.762 , 24.9225, 34.956 ,\n",
       "       34.8425,  8.72  ,  5.832 , 44.982 ,  8.425 ,  3.711 ,  1.066 ,\n",
       "       21.033 , 29.949 , 17.187 ,  1.5305, 30.368 , 32.095 ,  7.83  ,\n",
       "        6.2325, 18.32  ,  4.5675,  3.5575,  3.626 , 44.1405,  2.6175,\n",
       "       35.3475, 17.424 ,  6.8565, 25.571 , 35.495 ,  0.814 , 10.235 ,\n",
       "       19.375 ,  1.616 , 19.884 ,  2.112 , 23.5325,  9.9375, 28.956 ,\n",
       "        4.992 , 14.14  , 39.695 ,  9.979 ,  4.3135, 30.19  ,  4.083 ,\n",
       "        1.476 ,  7.288 , 11.9385, 17.829 , 19.396 , 10.3185, 22.84  ,\n",
       "       18.0915,  5.722 , 32.858 ,  2.718 , 13.878 , 32.4495, 10.128 ,\n",
       "        6.82  , 11.223 ,  1.549 ,  4.395 , 23.385 ,  4.107 , 30.919 ,\n",
       "       11.106 ,  9.937 , 30.148 ,  1.273 ,  1.791 , 23.285 ,  2.621 ,\n",
       "        4.4425, 14.2555,  4.74  , 44.658 , 29.8865,  3.429 , 14.55  ,\n",
       "        6.618 ,  0.914 , 16.794 , 18.308 ])"
      ]
     },
     "execution_count": 148,
     "metadata": {},
     "output_type": "execute_result"
    }
   ],
   "source": [
    "y_pred"
   ]
  },
  {
   "cell_type": "code",
   "execution_count": 149,
   "metadata": {},
   "outputs": [
    {
     "data": {
      "text/plain": [
       "993     8.7450\n",
       "859    21.4335\n",
       "298    12.0020\n",
       "553     6.6630\n",
       "672    11.0115\n",
       "        ...   \n",
       "679    14.5500\n",
       "722     6.6180\n",
       "215     0.9140\n",
       "653    16.7940\n",
       "150    18.3080\n",
       "Name: gross income, Length: 200, dtype: float64"
      ]
     },
     "execution_count": 149,
     "metadata": {},
     "output_type": "execute_result"
    }
   ],
   "source": [
    "y_test"
   ]
  },
  {
   "cell_type": "code",
   "execution_count": 154,
   "metadata": {
    "scrolled": false
   },
   "outputs": [
    {
     "data": {
      "text/plain": [
       "XGBRegressor(base_score=0.5, booster='gbtree', colsample_bylevel=1,\n",
       "             colsample_bynode=1, colsample_bytree=1, gamma=0, gpu_id=-1,\n",
       "             importance_type='gain', interaction_constraints='',\n",
       "             learning_rate=0.300000012, max_delta_step=0, max_depth=6,\n",
       "             min_child_weight=1, missing=nan, monotone_constraints='()',\n",
       "             n_estimators=100, n_jobs=4, num_parallel_tree=1, random_state=0,\n",
       "             reg_alpha=0, reg_lambda=1, scale_pos_weight=1, subsample=1,\n",
       "             tree_method='exact', validate_parameters=1, verbosity=None)"
      ]
     },
     "execution_count": 154,
     "metadata": {},
     "output_type": "execute_result"
    }
   ],
   "source": [
    "from xgboost import XGBRegressor\n",
    "xg = XGBRegressor()\n",
    "xg.fit(x_train, y_train)"
   ]
  },
  {
   "cell_type": "code",
   "execution_count": 155,
   "metadata": {},
   "outputs": [
    {
     "name": "stdout",
     "output_type": "stream",
     "text": [
      "Training Score:\n",
      " 99.99987296286179\n"
     ]
    }
   ],
   "source": [
    "print(\"Training Score:\\n\",xg.score(x_train,y_train)*100)"
   ]
  },
  {
   "cell_type": "code",
   "execution_count": 156,
   "metadata": {},
   "outputs": [
    {
     "name": "stdout",
     "output_type": "stream",
     "text": [
      "Testing Score:\n",
      " 99.98068773602151\n"
     ]
    }
   ],
   "source": [
    "print(\"Testing Score:\\n\",xg.score(x_test,y_test)*100)"
   ]
  },
  {
   "cell_type": "code",
   "execution_count": 158,
   "metadata": {},
   "outputs": [
    {
     "data": {
      "text/plain": [
       "SGDRegressor()"
      ]
     },
     "execution_count": 158,
     "metadata": {},
     "output_type": "execute_result"
    }
   ],
   "source": [
    "from sklearn.linear_model import SGDRegressor\n",
    "sgd = SGDRegressor()\n",
    "sgd.fit(x_train, y_train)"
   ]
  },
  {
   "cell_type": "code",
   "execution_count": 159,
   "metadata": {},
   "outputs": [
    {
     "name": "stdout",
     "output_type": "stream",
     "text": [
      "Training Score:\n",
      " -7.674193505169169e+26\n"
     ]
    }
   ],
   "source": [
    "print(\"Training Score:\\n\",sgd.score(x_train,y_train)*100)"
   ]
  },
  {
   "cell_type": "code",
   "execution_count": 160,
   "metadata": {},
   "outputs": [
    {
     "name": "stdout",
     "output_type": "stream",
     "text": [
      "Testing Score:\n",
      " -7.510371310432267e+26\n"
     ]
    }
   ],
   "source": [
    "print(\"Testing Score:\\n\",sgd.score(x_test,y_test)*100)"
   ]
  },
  {
   "cell_type": "code",
   "execution_count": 161,
   "metadata": {},
   "outputs": [
    {
     "data": {
      "text/plain": [
       "ElasticNet()"
      ]
     },
     "execution_count": 161,
     "metadata": {},
     "output_type": "execute_result"
    }
   ],
   "source": [
    "from sklearn.linear_model import ElasticNet\n",
    "ela = ElasticNet()\n",
    "ela.fit(x_train, y_train)"
   ]
  },
  {
   "cell_type": "code",
   "execution_count": 162,
   "metadata": {},
   "outputs": [
    {
     "name": "stdout",
     "output_type": "stream",
     "text": [
      "Training Score:\n",
      " 99.99999664656724\n",
      "Testing Score:\n",
      " 99.99999664578213\n"
     ]
    }
   ],
   "source": [
    "print(\"Training Score:\\n\",ela.score(x_train,y_train)*100)\n",
    "print(\"Testing Score:\\n\",ela.score(x_test,y_test)*100)"
   ]
  },
  {
   "cell_type": "code",
   "execution_count": 163,
   "metadata": {},
   "outputs": [
    {
     "data": {
      "text/plain": [
       "BayesianRidge()"
      ]
     },
     "execution_count": 163,
     "metadata": {},
     "output_type": "execute_result"
    }
   ],
   "source": [
    "from sklearn.linear_model import BayesianRidge\n",
    "bsr = BayesianRidge()\n",
    "bsr.fit(x_train, y_train)"
   ]
  },
  {
   "cell_type": "code",
   "execution_count": 164,
   "metadata": {},
   "outputs": [
    {
     "name": "stdout",
     "output_type": "stream",
     "text": [
      "Training Score:\n",
      " 99.99999999895255\n",
      "Testing Score:\n",
      " 99.9999999989523\n"
     ]
    }
   ],
   "source": [
    "print(\"Training Score:\\n\",bsr.score(x_train,y_train)*100)\n",
    "print(\"Testing Score:\\n\",bsr.score(x_test,y_test)*100)"
   ]
  },
  {
   "cell_type": "code",
   "execution_count": 165,
   "metadata": {},
   "outputs": [
    {
     "data": {
      "text/plain": [
       "SVR()"
      ]
     },
     "execution_count": 165,
     "metadata": {},
     "output_type": "execute_result"
    }
   ],
   "source": [
    "from sklearn.svm import SVR\n",
    "svr = SVR()\n",
    "svr.fit(x_train, y_train)"
   ]
  },
  {
   "cell_type": "code",
   "execution_count": 166,
   "metadata": {},
   "outputs": [
    {
     "name": "stdout",
     "output_type": "stream",
     "text": [
      "Training Score:\n",
      " 99.67933081155218\n",
      "Testing Score:\n",
      " 99.78436640244199\n"
     ]
    }
   ],
   "source": [
    "print(\"Training Score:\\n\",svr.score(x_train,y_train)*100)\n",
    "print(\"Testing Score:\\n\",svr.score(x_test,y_test)*100)"
   ]
  },
  {
   "cell_type": "code",
   "execution_count": 167,
   "metadata": {},
   "outputs": [
    {
     "data": {
      "text/plain": [
       "KernelRidge()"
      ]
     },
     "execution_count": 167,
     "metadata": {},
     "output_type": "execute_result"
    }
   ],
   "source": [
    "from sklearn.kernel_ridge import KernelRidge\n",
    "kr = KernelRidge()\n",
    "kr.fit(x_train, y_train)"
   ]
  },
  {
   "cell_type": "code",
   "execution_count": 168,
   "metadata": {},
   "outputs": [
    {
     "name": "stdout",
     "output_type": "stream",
     "text": [
      "Training Score:\n",
      " 99.99999999999993\n",
      "Testing Score:\n",
      " 99.99999999999993\n"
     ]
    }
   ],
   "source": [
    "print(\"Training Score:\\n\",kr.score(x_train,y_train)*100)\n",
    "print(\"Testing Score:\\n\",kr.score(x_test,y_test)*100)"
   ]
  },
  {
   "cell_type": "code",
   "execution_count": 169,
   "metadata": {},
   "outputs": [
    {
     "data": {
      "text/plain": [
       "GradientBoostingRegressor()"
      ]
     },
     "execution_count": 169,
     "metadata": {},
     "output_type": "execute_result"
    }
   ],
   "source": [
    "from sklearn.ensemble import GradientBoostingRegressor\n",
    "gbr = GradientBoostingRegressor()\n",
    "gbr.fit(x_train, y_train)"
   ]
  },
  {
   "cell_type": "code",
   "execution_count": 170,
   "metadata": {},
   "outputs": [
    {
     "name": "stdout",
     "output_type": "stream",
     "text": [
      "Training Score:\n",
      " 99.99651810214009\n",
      "Testing Score:\n",
      " 99.99445274788273\n"
     ]
    }
   ],
   "source": [
    "print(\"Training Score:\\n\",gbr.score(x_train,y_train)*100)\n",
    "print(\"Testing Score:\\n\",gbr.score(x_test,y_test)*100)"
   ]
  },
  {
   "cell_type": "code",
   "execution_count": null,
   "metadata": {},
   "outputs": [],
   "source": []
  }
 ],
 "metadata": {
  "kernelspec": {
   "display_name": "Python 3",
   "language": "python",
   "name": "python3"
  },
  "language_info": {
   "codemirror_mode": {
    "name": "ipython",
    "version": 3
   },
   "file_extension": ".py",
   "mimetype": "text/x-python",
   "name": "python",
   "nbconvert_exporter": "python",
   "pygments_lexer": "ipython3",
   "version": "3.8.5"
  }
 },
 "nbformat": 4,
 "nbformat_minor": 4
}
